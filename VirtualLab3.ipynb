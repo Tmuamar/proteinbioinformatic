{
 "cells": [
  {
   "cell_type": "code",
   "execution_count": 1,
   "id": "e9ae00e4-f2f3-4a66-ac75-6f039f387bfa",
   "metadata": {},
   "outputs": [
    {
     "name": "stdout",
     "output_type": "stream",
     "text": [
      "Requirement already satisfied: numpy in c:\\users\\thomas\\anaconda3\\lib\\site-packages (1.21.5)\n",
      "Note: you may need to restart the kernel to use updated packages.\n"
     ]
    }
   ],
   "source": [
    "pip install numpy"
   ]
  },
  {
   "cell_type": "code",
   "execution_count": 2,
   "id": "c01eed6f-159e-4b2e-8831-20bdb2c561d8",
   "metadata": {},
   "outputs": [
    {
     "name": "stdout",
     "output_type": "stream",
     "text": [
      "Requirement already satisfied: biopython in c:\\users\\thomas\\anaconda3\\lib\\site-packages (1.79)\n",
      "Requirement already satisfied: numpy in c:\\users\\thomas\\anaconda3\\lib\\site-packages (from biopython) (1.21.5)\n",
      "Note: you may need to restart the kernel to use updated packages.\n"
     ]
    }
   ],
   "source": [
    "pip install biopython"
   ]
  },
  {
   "cell_type": "code",
   "execution_count": 3,
   "id": "3ae8e189-56d5-4536-affd-1ec779cf70e3",
   "metadata": {},
   "outputs": [
    {
     "name": "stdout",
     "output_type": "stream",
     "text": [
      "1.21.5\n"
     ]
    },
    {
     "data": {
      "text/plain": [
       "0.12136980529918133"
      ]
     },
     "execution_count": 3,
     "metadata": {},
     "output_type": "execute_result"
    }
   ],
   "source": [
    "import numpy\n",
    "print(numpy.__version__)\n",
    "numpy.random.randn()"
   ]
  },
  {
   "cell_type": "code",
   "execution_count": 4,
   "id": "bae013ff-3312-4ce9-bee9-5259184f74ca",
   "metadata": {},
   "outputs": [
    {
     "name": "stdout",
     "output_type": "stream",
     "text": [
      "1.79\n"
     ]
    }
   ],
   "source": [
    "import Bio\n",
    "print(Bio.__version__)"
   ]
  },
  {
   "cell_type": "code",
   "execution_count": 5,
   "id": "fb81e025-b322-491a-9693-66198644adcd",
   "metadata": {},
   "outputs": [],
   "source": [
    "from Bio import AlignIO\n",
    "alignment = AlignIO.read(\"SEED.ann\", \"stockholm\")"
   ]
  },
  {
   "cell_type": "code",
   "execution_count": 6,
   "id": "bfe00a5e-6400-4a94-930f-754e17d3fbf9",
   "metadata": {},
   "outputs": [
    {
     "name": "stdout",
     "output_type": "stream",
     "text": [
      "Alignment with 50 rows and 431 columns\n",
      "LIIPCLLISCLTVLVFYLPSEC-GEKITLCISVLLSLTVFLLLI...GLF ACHA2_RAT/249-502\n",
      "LIIPCLLISCLTVLVFYLPSDC-GEKITLCISVLLSLTVFLLLI...GLF ACHA2_CHICK/247-519\n",
      "LIIPCLLISCLTVLVFYLPSEC-GEKITLCISVLLSLTVFLLLI...GLF ACHA4_CHICK/245-613\n",
      "LIIPCLLISCLTVLVFYLPSEC-GEKVTLCISVLLSLTVFLLLI...GLF ACHA4_RAT/252-622\n",
      "LIIPCLLISFLTILVFYLPSDC-GEKVTLCISVLLSLTVFLLVI...GLF ACHA3_CARAU/240-503\n",
      "MIIPCLLISFLTVLVFYLPSDC-GEKVTLCISVLLSLTVFLLVI...GLF ACHA3_CHICK/239-486\n",
      "VVIPCLLFSFLTGLVFYLPTDS-GEKITLSVSVLLSLVVFLLVI...AIF ACHAA_XENLA/238-446\n",
      "LIIPCLGLSFLTVLVFYLPSDE-GEKLSLSTSVLVSLTVFLLVI...LIF ACHB3_RAT/246-452\n",
      "LIIPCLGLSFLTVLVFYLPSDE-GEKVSLSTSVLVSLTVFLLVI...LIF ACHN2_CARAU/242-446\n",
      "LIIPCVGISYLSVLVFYLPADS-GEKIALCISILLSQTMFFLLI...VIL B4HH26_DROSE/268-544\n",
      "LIVPCVGISYLSVLVFYLPADS-GEKIALCISILLSQTMFFLLI...AIL ACH1_SCHGR/249-526\n",
      "LIVPCVALTFLTVLVFYLPSDS-GEKVTLCISILVSLTVFFLLL...AII B4QT71_DROSI/252-480\n",
      "LIIPCVGISFLSVLVFYLPSDS-GEKISLCISILLSLTVFFLLL...LII ACH1_DROME/247-531\n",
      "LLIPCVLISALALLVFLLPADS-GEKISLGITVLLSLTVFMLLV...GIL ACHA7_CHICK/237-487\n",
      "LLLPSIFLMVVDIVGFCLPPDS-GERVSFKITLLLGYSVFLIIV...TLV 5HT3A_MOUSE/253-478\n",
      "IYTPCIMTVILSQVSFWINKESVPARTVFGITTVLTMTTLSISA...VYW GBRA6_MOUSE/247-437\n",
      "TYIPCIMTVILSQVSFWINKESVPARTVFGITTVLTMTTLSISA...VYW GBRA4_BOVIN/263-539\n",
      "TYIPCILTVVLSWVSFWINKDAVPARTSLGITTVLTMTTLSTIA...VYW GBRG1_RAT/277-459\n",
      "...\n",
      "LIIPCVLITSLAILVFYLPSDC-GEKVTLCMSVLLALTVFLLLI...GLF ACHB2_CARAU/211-439\n"
     ]
    }
   ],
   "source": [
    "print(alignment)"
   ]
  },
  {
   "cell_type": "code",
   "execution_count": 7,
   "id": "a75b4117-e501-4037-8bda-b47afdee85fe",
   "metadata": {},
   "outputs": [
    {
     "name": "stdout",
     "output_type": "stream",
     "text": [
      "Alignment length 431\n"
     ]
    }
   ],
   "source": [
    "from Bio import AlignIO\n",
    "alignment = AlignIO.read(\"SEED.ann\", \"stockholm\")\n",
    "print(\"Alignment length %i\" % alignment.get_alignment_length())"
   ]
  },
  {
   "cell_type": "code",
   "execution_count": 8,
   "id": "470b5a61-9a5d-4c66-9233-d6289a4add85",
   "metadata": {},
   "outputs": [
    {
     "name": "stdout",
     "output_type": "stream",
     "text": [
      "LIIPCLLISCLTVLVFYLPSEC-GEKITLCISVLLSLTVFLLLITEIIP-STSLVIPLIGEYLLFTMIFVTLSIVITVFVLNVHH--RSPST-HNMPNWVRVALLGRVPRWLMMNRPLPPMELHGSPDLKLS---------------------------------------------------------------PSYHWLETNMDAGEREETEEEE-----------------EEEDENICVCAG---------------------------------------------------------------LPDSSMGVLYGHGGLHLRAMEPETKTPSQASE---------------------ILLSP--QIQKALEGVHYIA------DRLRSEDADSSVKEDWKYVAMVVDRIFLWLFIIVCFLGTIGLF - ACHA2_RAT/249-502\n",
      "LIIPCLLISCLTVLVFYLPSDC-GEKITLCISVLLSLTVFLLLITEIIP-STSLVIPLIGEYLLFTMIFVTLSIIITVFVLNVHH--RSPST-HTMPHWVRSFFLGFIPRWLFMKRPPLLLPAEGTT----------------------------------GQYDPP----------------------------GTRLSTSRCWLETDVDDKWEEE-----------------EEEEEEEEEEEE-------------------------------------------------E-------------EKAYPSRVPSGGSQGTQCHYSCERQAGKASGGPAPQVPLKGEEVGSDQG----LTLSP--SILRALEGVQYIA------DHLRAEDADFSVKEDWKYVAMVIDRIFLWMFIIVCLLGTVGLF - ACHA2_CHICK/247-519\n",
      "LIIPCLLISCLTVLVFYLPSEC-GEKITLCISVLLSLTVFLLLITEIIP-STSLVIPLIGEYLLFTMIFVTLSIIITVFVLNVHH--RSPRT-HTMPDWVRRVFLDIVPRLLFMKRPSTVKDNCKKLIESMHKLTNSPRLWSETDMEPNFTTSSSPSPQSNEPSPTS----------------------------SFCAHLEEPAKPMCKSPSGQYSMLHP-------------EPPQVTCSSPKPSCHPLSDTQTTSISKGRSLSVQQMYSPNKTEEGSIRCRSRSIQYCYLQEDSSQTNGHSSASPASQRCHLNEEQPQHKPHQCKCKCRKGEAAGTPTQGSKSHSNKGEHL--------VLMSP--ALKLAVEGVHYIA------DHLRAEDADFSVKEDWKYVAMVIDRIFLWMFIIVCLLGTVGLF - ACHA4_CHICK/245-613\n",
      "LIIPCLLISCLTVLVFYLPSEC-GEKVTLCISVLLSLTVFLLLITEIIPSPTSLVIPLIGEYLLFTMIFVTLSIVITVFVLNVHH--RSPRT-HTMPAWVRRVFLDIVPRLLFMKRPSVVKDNCRRLIESMHKMANAPRFWPEPVGEPGILSDICNQGLSPAPTFCNPTDTAVETQPTCRSPPLEVPDLKTSEVEKASPCPSPGSCPPPKSSSGAPMLIKARSLSVQHVPSSQEAAEDGIRCRSRSIQYCVSQDG----------------------------------------AASLADSKPTSSPTSLKARPSQLPVSDQASPCKCTCKEPSPVSPVTVLKAGGTKAPPQH--------LPLSP--ALTRAVEGVQYIA------DHLKAEDTDFSVKEDWKYVAMVIDRIFLWMFIIVCLLGTVGLF - ACHA4_RAT/252-622\n",
      "LIIPCLLISFLTILVFYLPSDC-GEKVTLCISVLLSLTVFLLVITETIP-STSLVIPLIGEYLLFTMIFVTLSIVITVFVLNVHY--RTPMT-HTMPSWVRTVFLRALPRVMLMRRPIDLSESSGKGG---------------------------------GEIAGS----------------------------SGTGGGRGAEGKKMKSSASQQG-----------------AMNSLEFGEGKA-------------------------------------------------A-------------LEGKKGGCPCHPIKEAIEGDCGKVSRQLTPQAINTVVTF--------------SVVSP--EIKQAIESVKYIA------ENMRSRNKAKEVEDDWKYVAMVIDRIFLWVFVLVCVLGTLGLF - ACHA3_CARAU/240-503\n",
      "MIIPCLLISFLTVLVFYLPSDC-GEKVTLCISVLLSLTVFLLVITETIP-STSLVIPLIGEYLLFTMIFVTLSIVITVFVLNVHY--RTPKT-HTMPVWVRTIFLNLLPRIMFMTRPTSDEENNQK-------------------------------------------------------------------------------------PKPFYT-----------------SEFSNLNCFNSS-------------------------------------------------E-------------IKCCKDGFVCQDMACSCCQYQRMKFSDFSGNLTRSSSSESVDPLFSF------SVLSP--EMRDAIESVKYIA------ENMKMQNEAKEIQDDWKYVAMVIDRIFLWVFILVCILGTAGLF - ACHA3_CHICK/239-486\n",
      "VVIPCLLFSFLTGLVFYLPTDS-GEKITLSVSVLLSLVVFLLVIVELIP-STSSAVPLIGKYMLFTMVFVIASIVITVIVINTHH--RSPST-HIMPQWLKKIFIETIPRVMFFS----------------------------------------------------------------------------------------------------TM-----------------KRPAQDQHKKKI-------------------------------------------------F-------------TEDIDISDISGKLGPTAVKYQSP------------------------------ILKNP--DVKSAIEGAKYVA------ETMKSDQESTKASEEWKFVAMVLDHLLLAVFMIVCIIGTLAIF - ACHAA_XENLA/238-446\n",
      "LIIPCLGLSFLTVLVFYLPSDE-GEKLSLSTSVLVSLTVFLLVIEEIIP-SSSKVIPLIGEYLLFIMIFVTLSIIVTVFVINVHH--RSSSTYHPMAPWVKRLFLQRLPRWLCMKDP----------------------------------------------------------------------------------------------------------------------MDRFSFPDGKE---------------------------------------------------------------SDTAVRGKVSGKRKQTPASDGE-------------------------------RVLVA--FLEKASESIRYIS------RHVKKEHFISQVVQDWKFVAQVLDRIFLWLFLIASVLGSILIF - ACHB3_RAT/246-452\n",
      "LIIPCLGLSFLTVLVFYLPSDE-GEKVSLSTSVLVSLTVFLLVIEEIIP-SSSKVIPLIGEYLLFIMIFVTLSIIVTIFVINVHH--RSSATYHPMSPWVRSLFLQRLPHLLCMRG----------------------------------------------------------------------------------------------------------------------NTDRYHYPELEP-------------------------------------------------H-------------SPDLKPRNKKGPPGPEGEG----------------------------------QALIN--LLEQATNSVRYIS------RHIKKEHFIREVVQDWKFVAQVLDRIFLWTFLTVSVLGTILIF - ACHN2_CARAU/242-446\n",
      "LIIPCVGISYLSVLVFYLPADS-GEKIALCISILLSQTMFFLLISEIIP-STSLALPLLGKYLLFTMLLVGLSVVITIIILNIHY--RKPST-HKMRPWIRSFFIKRLPKLLLMRVPKDLLRDLAAN----------------------------------KINYGL----------------------------KFSKTKFGQALMDEMQMNSGGS-----------------SPDSLRRMQGRV-------------------------------------------------GAGGCNGMHVTTATNRFSGLVGALGGGLSTLSGYNGLPSVLSGLDDSLSDVAA--------------RKKYPF-ELEKAIHNVMFIQ------HHMQRQDEFNAEDQDWGFVAMVMDRLFLWLFMIASLVGTFVIL - B4HH26_DROSE/268-544\n",
      "LIVPCVGISYLSVLVFYLPADS-GEKIALCISILLSQTMFFLLISEIIP-STSLALPLLGKYLLFTMVLVGLSVVITIMVLNVHY--RKPST-HKMAPWVRKVFIRRLPKLLLMRVPEQLLADLASK----------------------------------RLLRHA----------------------------HNSKLSAAAAAAVAAAASSSAA-----------------SSPDSLRHHHLH-------------------------------------------------Q-------------HQHQHHLQLHHLQRPGGCNGLHSATNRFGGSAGAFGGLPSVVGLDGSLSDVATRKKYP-FELEKAIHNVLFIQ------NHMQRQDEFDAEDQDWGFVAMVLDRLFLWIFTIASIVGTFAIL - ACH1_SCHGR/249-526\n",
      "LIVPCVALTFLTVLVFYLPSDS-GEKVTLCISILVSLTVFFLLLAEIIP-PTSLAVPLLGKYLLFTMILVSLSVWTTVCVLNIHF--RSPST-HNMSPLVRKLFLHFMPKLMMMRRTQYTLPDYDD-------------------------------------------------------------------------------------STPSNG-----------------YTNEIDVRDSIS-------------------------------------------------D-------------FPSEFKDSQDGAYDNGMQNSVDSDNVIP-------------------------RNLTP--EVLQALRAVRFIA------QHIKDADKDNEIVEDWKFVSMVLDRFFLWLFTLSCVFGTLAII - B4QT71_DROSI/252-480\n",
      "LIIPCVGISFLSVLVFYLPSDS-GEKISLCISILLSLTVFFLLLAEIIP-PTSLTVPLLGKYLLFTMMLVTLSVVVTIAVLNVNF--RSPVT-HRMAPWVQRLFIQILPKLLCIERPKKEEPEEDQPPEVLTDVYHLPPDVD-----------------------------------------------------KFVNYDSKRFSGDYGIPALPAS-----------------HRFDLAAAGGIS-------------------------------------------------AHCFAEPPLPSSLPLPGADDDLFSPSGLNGDISPGCCPAAAAAAAADLSPTFE--------------KPYAR--EMEKTIEGSRFIA------QHVKNKDKFESVEEDWKYVAMVLDRMFLWIFAIACVVGTALII - ACH1_DROME/247-531\n",
      "LLIPCVLISALALLVFLLPADS-GEKISLGITVLLSLTVFMLLVAEIMP-ATSDSVPLIAQYFASTMIIVGLSVVVTVIVLQYHH--HDPDG-GKMPKWTRVILLNWCAWFLRMKRPGEDKVRPAC-----------------------------------QHKQRR----------------------------CSLSSMEMNTVS----GQQCSN-----------------GNMLYIGFRGLD-------------------------------------------------G-------------VHCTPTTDSGVICGRMTCSPTE--EENLLHSGHP-------------------SEGDP--DLAKILEEVRYIA------NRFRDQDEEEAICNEWKFAASVVDRLCLMAFSVFTIICTIGIL - ACHA7_CHICK/237-487\n",
      "LLLPSIFLMVVDIVGFCLPPDS-GERVSFKITLLLGYSVFLIIVSDTLP--ATIGTPLIGVYFVVCMALLVISLAETIFIVRLVH--KQDLQ-RPVPDWLRHLVLDRIAWILCLGEQPMAHRPPA------------------------------------------------------------------------------------------TF-----------------QANKTDDCSGSD-------------------------------------------------L-------------LPAMGNHCSHVGGPQDLEKTPR--GRGSPLPPP--------------------REASL--AVRGLLQELSSIR------HFLEKRDEMREVARDWLRVGYVLDRLLFRIYLLAVLAYSITLV - 5HT3A_MOUSE/253-478\n",
      "IYTPCIMTVILSQVSFWINKESVPARTVFGITTVLTMTTLSISARHSLP-KVSYATAMDW-FIAVCFAFVFSALIEFAAVNYFTN-LQSQKA-------ERQAQTAATPPVAK--------------------------------------------------------------------------------------------------SKASES-----------------LQAEIVVHSDSK-------------------------------------------------Y-----------------------HLKKRISSLTLP-------------------------------IVPSS--EASKALSRT----------PILKSTPVSPPLLLPATGGTSKIDQYSRILFPVAFAGFNLVYW - GBRA6_MOUSE/247-437\n",
      "TYIPCIMTVILSQVSFWINKESVPARTVFGITTVLTMTTLSISARHSLP-KVSYATAMDW-FIAVCFAFVFSALIEFAAVNYFTNVQMEKAK-RKTSKAPQEISAAPVLREKHPETPLQNTNANLSMRKRANALV--------------------------HSESDV----------------------------GSRTDVGNHSSKSSTVVQGSSE-----------------ATPQSYLASSPN-------------------------------------------------P-------------FSRANAAETISAARAIPSALPSTPSRTGYVPRQVPVGSASTQ-----------HVFGS--RLQRIKTTVNSIGT-----SGKLSATTTPSAPPPSGSGTSKIDKYARILFPVTFGAFNMVYW - GBRA4_BOVIN/263-539\n",
      "TYIPCILTVVLSWVSFWINKDAVPARTSLGITTVLTMTTLSTIARKSLP-KVSYVTAMDL-FVSVCFIFVFAALMEYGTLHYFTS--------NNKGKTTRDRKLK--------------------------------------------------------------------------------------------------------------------------------SKTSVSPGLHAG---------------------------------------------------------------STLIPMNNISMPQGEDDYGYQCLEGKDC-------------------------ATFFC--CFEDCRT------------GSWREGRIHIRIAK--------IDSYSRIFFPTAFALFNLVYW - GBRG1_RAT/277-459\n",
      "TYIPCTLIVVLSWVSFWINKDAVPARTSLGITTVLTMTTLSTIARKSLP-KVSYVTAMDL-FVSVCFIFVFSALVEYGTLHYFVS-NRKPS--KDKDKKKKNPLLRMFS-----------------------------------------------------------------------------------------------------------------------------FKAPTIDIRPRS---------------------------------------------------------------ATIQMNNATHLQERDEEYGYECLDGKDC-------------------------ASFFC--CFEDCRT------------GAWRHGRIHIRIAK--------MDSYARIFFPTAFCLFNLVYW - GBRG2_BOVIN/279-469\n",
      "TYIPCILTVVLSWVSFWIKKDATPARTTLGITTVLTMTTLSTIARKSLP-RVSYVTAMDL-FVTVCFLFVFAALMEYATLNYYSS-CRKPTIRKKKTSLLHPDSTRWIPDRISLQAP---------------------------------------------------------------------------------------------------------------------SNYSLLDMRPPP-------------------------------------------------P-------------VMITLNNSMYWQEFEDTCVYECLDGKDC-------------------------QSFFC--CYEECKS------------GSWRRGRIHIDVSE--------LDSYSRVFFPTSFLLFNLVYW - GBRG3_MOUSE/260-461\n",
      "TYIPCILTVVLSWVSFWIKRDSTPARTSLGITTVLTMTTLSTISRKHLP-RVSYITAMDL-FVSVCFIFVFAALMEYATLNYLVG-NKKPLEHSSRKARLPPAGAQVMPSFTAIN-----------------------------------------------------------------------------------------------------------------------ININNIMHWPPE------------------------------------------------------------------------IEEDEDDDPGSPCLEGKEC-------------------------ERFFC--CIEDCQT------------GMWREGRVRIHISR--------LDSYSRVFFPTAFLLFNIVYW - GBRG4_CHICK/262-451\n",
      "TYFPATLMVMLSWVSFWIDRRAVPARVSLGITTVLTMTTIITGVNASMP-RVSYVKAVDI-YLWVSFVFVFLSVLEYAAVNYL----------TTVQERKERKLREKFPCMCGM------------------------------------------------------------------------------------------------------------------------LHSKTMMLDGS----------------------------------------------------------------YSESEANSLAGYPRSHILTEEERQDKIVVH-----------------------LGLSG--EANAARK------------KGLLKGQTGFRIFQN----THAIDKYSRLIFPASYIFFNLIYW - GBRR2_HUMAN/268-461\n",
      "TYFPATLMVMLSWVSFWIDRRAVPARVPLGITTVLTMSTIITGVNASMP-RVSYIKAVDI-YLWVSFVFVFLSVLEYAAVNYL----------TTVQERKEQKLREKLPCTSGLPPP---------------------------------------------------------------------------------------------------------------------RTAMLDGNYSDG-------------------------------------------------E-------------VNDLDNYMPENGEKPDRMMVQLTLAS---------------------------ERSSP---------------------QRKSQRSSYVSMRID----THAIDKYSRIIFPAAYILFNLIYW - GBRR1_HUMAN/288-475\n",
      "TYLPSILIVMLSWVSFWINHEATSARVALGITTVLTMTTISNGVRSSLP-RISYVKAIDI-YLVMCFVFVFAALLEYAAVNYTYWGARAKRK-AKRLRERATSVRKRVDDGDQMNNTNMDTVELKEVHMVPTS------------------------------------------------------------------------------VGVTNS-----------------QSFNLDLDDGSG-------------------------------------------------D---------------DTGFRVVPPIPRSFTHSHATTHGYIPTNVVRRRSS----------------SHVPP--RRRRLL-------------SHFRQKAKSIKVKIPRVQDVNTIDKYARLMFPLLFIIFNTSYW - GBRB_LYMST/256-493\n",
      "TYMPSILITILSWVSFWINYDASAARVALGITTVLTMTTINTHLRETLP-KIPYVKAIDM-YLMGCFVFVFLALLEYAFVNYIFF-GKGPQR-QKKLAEKSAKANNDRSRFEGSRVDTH-------------------------------------------------------------------------------------------------------------------GNILLTSLEIHN-------------------------------------------------E-------------VASNEVTTSVTDARNSTISFDNSGIQYRKQSSH--------------------RESLG--RRSSDRTGSHSKR------GHLRRRSSQLKIKIPDLTDVNAIDRWSRMVFPFTFSLFNLIYW - GBRB3_CHICK/250-471\n",
      "TYMPSILITILSWVSFWINYDASAARVALGVTTVLTMTTINTHLRETLP-KIPYVKAIDV-YLMGCFVFVFLALLEYAFVNYIFF-GRGPRQ-QKKQSERISKANNERHRYEEKRVR----------------------------------------------------------------------------------------------EQVDPY-----------------GNILLSTLDMNN-------------------------------------------------E-------------LLATDMMSSVGDSRNSVMSFEGSGIQFRKPLASRDG-----------------FGHHP--TLDRHVPLTHHAAARNRANCRLRRRSSKLKLKIPDLTDVSTIDKWSRIIFPITFGFFNLVYW - GBRB4_CHICK/249-483\n",
      "TYMPSTLITILSWVSFWINYDASAARVALGITTVLTMTTISTHLRETLP-KIPYVKAIDI-YLMGCFVFVFLALLEYAFVNYIFF-GKGP---QKKGAGKQDQSANEKNKLEMNKVQVDAH-----------------------------------------------------------------------------------------------------------------GNILLSTLEIRN-------------------------------------------------E-------------TSGSEVLTGVGDPKTTMYSYDSASIQYRKPMSSR-------------------EGYGR--ALDRHGAHSK---------GRIRRRASQLKVKIPDLTDVNSIDKWSRMFFPITFSLFNVVYW - GBRB1_BOVIN/250-469\n",
      "VYAPTLLIVVLSWLSFWINPDASAARVPLGIFSVLSLASECTTLAAELP-KVSYVKALDV-WLIACLLFGFASLVEYAVVQVMLN--------NPKRVEAEKARIAKAEQADGKGGNAAKK------------------------------------------------------------------------------------------NTVNGT-----------------GTPVHISTLQVG-------------------------------------------------E-------------TRCKKVCTSKSDLRSNDFSIVGSLPRDFE------------------------LSNYD--CYGKPIEVNNGLG------KPQAKNKKPPPAKPVIPTAAKRIDLYARALFPFCFLFFNVIYW - GLRB_RAT/273-492\n",
      "MYIPSLLIVILSWISFWINMDAAPARVGLGITTVLTMTTQSSGSRASLP-KVSYVKAIDI-WMAVCLLFVFSALLEYAAVNFVSR-----QH-KELLRFRRKRRHHKSPMLNLFQED----------------------------------------------------------------------------------------------EAGEGR-----------------FNFSAYGMGPAC-------------------------------------------------L-------------QAKDGISVKGANNSNTTNPPPA-------------------------------PSKSP------------------------------EEMRKLFIQRAKKIDKISRIGFPMAFLIFNMFYW - G3REP2_GORGO/255-443\n",
      "IYIPSGLIVIISWVSFWLNRNATPARVALGVTTVLTMTTLMSSTNAALP-KISYVKSIDV-YLGTCFVMVFASLLEYATVGYMAK--RIQMR-KQRFMAIQKIAEQKKQQLDGANQQQANPNPNANVGGPGGVGVGPGGPGGPGGGVNVGVGMGMGPEHGHGHGHHA----------------------------HSHGHPHAPKQTVSNRPIGFSNIQQNVGTRGCSIVGPLFQEVRFKVHDPKA-------------------------------------------------H-------------SKGGTLENTVNGGRGGPQSHGPGPGQGGGPPGGGGGGG---------------GGGGP--PEGGGDPEAAVPA------HLLHPGKVKKDINKLLGITPSDIDKYSRIVFPVCFVCFNLMYW - GBRB_DROME/274-586\n",
      "SYMPSVLLVAMSWVSFWISQAAVPARVSLGITTVLTMTTLMVSARSSLP-RASAIKALDV-YFWICYVFVFAALVEYAFAHFNAD-YRKKRK-AKVKVTKPRAEMDVRNAIVLFSL-----------------------------------------------------------------------------------------------SAAGVS-----------------QELAISRRQGR----------------------------------------------------------------VPGNLMGSYRSVEVEAKKEGGS-------------------------------RPGGP---------------------GGIRSRLKPIDADT--------IDIYARAVFPAAFAAVNIIYW - GBRD_MOUSE/254-444\n",
      "TYLPCIMTVILSQVSFWLNRESVPARTVFGVTTVLTMTTLSISARNSLP-KVAYATAMDW-FMAVCYAFVFSALIEFATVNYFT---------KRSWAWEGK----KVPEALEMKKKTPAVP-----------------------------------------------------------------------------------------TKKTST-----------------TFNIVGTTYPIN-------------------------------------------------L-------------AKDTEFSAISKGAAPSTSSTPT-------------------------------IIASP---KTTCVQ------------DIPTETKTYNSVSK--------VDKISRIIFPVLFAIFNLVYW - GBRA3_BOVIN/282-475\n",
      "TYLPCIMTVILSQVSFWLNRESVPARTVFGVTTVLTMTTLSISARNSLP-KVAYATAMDW-FIAVCYAFVFSALIEFATVNYFT---------KRGYAWDGKSVVPEKPK----------------------------------------------------------------------------------------------------------------------------KVKDPLIKKNNT-------------------------------------------------Y-------------APTATSYTPNLARGDPGLATIAKS-----------------------------ATIEP---------------------KEVKPETKPPEPKKTFNSVSK-IDRLSRIAFPLLFGIFNLVYW - A0A452F9D8_CAPHI/257-439\n",
      "TYLPCIMTVILSQVSFWLNRESVPARTVFGVTTVLTMTTLSISARNSLP-KVAYATAMDW-FIAVCYAFVFSALIEFATVNYFT---------KRGWAWDGKKALEAAKIK---------------------------------------------------------------------------------------------------------------------------KKREVILNKSTN-------------------------------------------------A-------------FTTGKMSHPPNIPKEQTPAGTS-------------------------------NTTSV--SVKPSEE------------KTSESKKTYNSISK--------IDKMSRIVFPVLFGTFNLVYW - A0A2I3GX20_NOMLE/264-445\n",
      "FITPCVLISFLASLAFYLPAES-GEKMSTAISVLLAQAVFLLLTSQRLP-ETALAVPLIGKYLMFIMSLVTGVIVNCGIVLNFHF--RTPST-HVLSTRVKQIFLEKLPRILHMSRADESEQPDWQN----------------------------------DLKLRR----------------------------SS--------------SVGYIS-----------------KAQEYFNIKSRS-------------------------------------------------E-------------LMFEKQSERHGLVPRVTPRIGFGNNNENIAAS---------------------DQLHD--EIKSGIDSTNYIV------KQIKEKNAYDEEVGNWNLVGQTIDRLSMFIITPVMVLGTIFIF - ACHD_TETCF/253-494\n",
      "ILAPCVLIALMANLVFYLPADS-GEKMTLAISVLLAQSVFLLLISQRLP-ETSFAIPLISKYLMFIMVLVTIVVVSCVIVLNLHF--RTPST-HAISERMKEIFLNKLPRILHMSQPAEPEPEPWSGVLLRRSS-----------------------------------------------------------------------------SVGYIV-----------------KAEEYYSVKSRS-------------------------------------------------E-------------LMFEKQSERHGLTSRATPARVNPLNANNSQ-----------------------DQLYG--EIKPAIDGANFIV------KHIRDKNDYNEEKDNWYRIARTVDRLCLFLVTPVMIIGTLWIF - B7ZQ13_XENLA/255-493\n",
      "ILVPCVLISFMINLVFYLPADC-GEKTSMAISVLLAQSVFLLLISKRLP-ATSMAIPLIGKFLLFGMVLVTMVVVICVIVLNIHF--RTPST-HVLSEPVKKLFLETLPEILHMSRPAEDGPSPGTLIRRSS-------------------------------------------------------------------------------SLGYIS-----------------KAEEYFSLKSRS-------------------------------------------------D-------------LMFEKQSERHGLARRLTTARRPPAGSEQAQ-----------------------QELFS--ELKPAVDGANFIV------NHMKDQNNYNEEKDCWNRVARTVDRLCLFVVTPIMVVGTAWIF - ACHD_BOVIN/252-488\n",
      "IVTPCVLIAFMAILVFYLPADS-GEKMTLVISVLLAQSVFLLLVSQRLP-ATSHAIPLIGKYLLFIMLLVTAVVVICVVVLNFHF--RTPST-HVMSDWVRGVFLEILPRLLHMSHPAESPAGAPCIRRCS--------------------------------------------------------------------------------SAGYIA-----------------KAEEYYSVKSRS-------------------------------------------------E-------------LMFEKQSERHGLASRVTPARFAPAATSE-------------------------EQLYD--HLKPTLDEANFIV------KHMREKNSYNEEKDNWNRVARTLDRLCLFLITPMLVVGTLWIF - ACHD_CHICK/252-485\n",
      "IIVPCVLISSMAVLVYFLPAKAGGQKCTVSINVLLAQTVFLFLIAQKVP-ETSQAVPLIGKYLTFLMVVTVVIVVNAVIVLNVSL--RTPNT-HSMSQRVRQVWLHLLPRYLGMHMPEEAPGPPQATRRRS--------------------------------------------------------------------------------SLGLMV-----------------KADEYMLWKART-------------------------------------------------E-------------LLFEKQKERDGLMKTVLEKIGRGLESNCAQDFCQSL-----------------EEASP--EIRACVEACNHIA------NATREQNDFSSENEEWILVGRVIDRVCFFIMASLFVCGTIGIF - ACHG_CHICK/249-491\n",
      "IIAPCVLISSVAILIYFLPAKAGGQKCTVAINVLLAQTVFLFLVAKKVP-ETSQAVPLISKYLTFLLVVTILIVVNAVVVLNVSL--RSPHT-HSMARGVRKVFLRLLPQLLRMHVRPLAPVAVQ------------------------------------DAHPRL----------------------------QN-------GSS----SGWPIT-----------------AGEEVALCLPRS-------------------------------------------------E-------------LLF-RQRQRNGLVRAALEKLEK--GPESGQSPEWCGSL---------------KQAAP--AIQACVEACNLIA------RARHQQTHFDSGNKEWFLVGRVLDRVCFLAMLSLFVCGTAGIF - ACHG_BOVIN/248-494\n",
      "IIVPCVLISFVSILVYFLPAKAGGQKCTVSINILLAQTVFLFLVAQKIP-ETSTSVPLIVKYLTFLMVVTITIVANAVIVLNISL--RTPNT-HSMSSTVRELCLRTVPRLLRMHLRPTDAAPPLAPLMRRSS------------------------------------------------------------------------------SLGLMM-----------------KADEYMLRKPRS-------------------------------------------------Q-------------LMFEKQKERDGLMKVVLDKIGRGMENNTSDDLVHSL-----------------NHAAP--EIRTCVEACCHIA------SATREKNDFKSENEEWILMGRVIDRVCFLVMCFVFFLGTIGTF - ACHG_XENLA/242-486\n",
      "IIVPCVLISGLVLLAYFLPAQAGGQKCTVSINVLLAQTVFLFLIAQKTP-ETSLSVPLLGRYLIFVMVVATLIVMNCVIVLNVSL--RTPTT-HAMSPRLRYVLLELLPQLLGSGAPPEIPRA--------------------------------------ASPPRR----------------------------AS--------------SLGLLL-----------------RAEELILKKPRS-------------------------------------------------E-------------LVFEQQRHRHGTWTATLCQNLG--------------------------------AAAP--EIRCCVDAVNFVA------SSTRDQEATGEEVSDWVRMGKALDSICFWAALVLFLVGSSLIF - ACHE_BOVIN/247-474\n",
      "IIAPCVLISSLVVLVYFLPAQAGGQKCTLSISVLLAQTIFLFLIAQKVP-ETSLNVPLIGKYLIFVMFVSMLIVMNCVIVLNVSL--RTPNT-HSLSEKIKHLFLGFLPKYLGMQLEPSEETPEKPQPRRRS-------------------------------------------------------------------------------SFGIMI-----------------KAEEYILKKPRS-------------------------------------------------E-------------LMFEEQKDRHGLKRVNKMTSDIDIGTTVDLYKDL-------------------ANFAP--EIKSCVEACNFIA------KSTKEQNDSGSENENWVLIGKVIDKACFWIALLLFSIGTLAIF - ACHG_TETCF/243-484\n",
      "TIIPCILISILAILVFYLPPDA-GEKMSLSISALLAVTVFLLLLADKVP-ETSLSVPIIIRYLMFIMILVAFSVILSVVVLNLHH--RSPNT-HTMPNWIRQIFIETLPPFLWIQRPVTTPSPDSK-------------------------------------------------------------------------------------PTIISR-----------------ANDEYFIRKPAG-------------------------------------------------D-------------FVCPVDNARVAVQPERLFSEMKWHLNGLTQP----------------------VTLPQ--DLKEAVEAIKYIA------EQLESASEFDDLKKDWQYVAMVADRLFLYVFFVICSIGTFSIF - ACHB_TETCF/248-479\n",
      "VIAPCILITLLAIFVFYLPPDA-GEKMGLSIFALLTLTVFLLLLADKVP-ETSLSVPIIIKYLMFTMVLVTFSVILSVVVLNLHH--RSPHT-HQMPLWVRQIFIHKLPLYLGLKRPKPERDQMQEP---------------------------------------------------------------------------PSIAPRDSPGSGWGR-----------------GTDEYFIRKPPN-------------------------------------------------D-------------FLFPKPNRFQPELSAPDLRRFIDGPNRA-------------------------VGLPP--ELREVVSSISYIA------RQLQEQEDHDVLKEDWQFVAMVVDRLFLWTFIIFTSVGTLVIF - ACHB_BOVIN/253-491\n",
      "LILPTVLISFLCVLVFYLPAEA-GEKVTLGISILLSLVVFLLLVSKILP-PTSLVLPLIAKYLLFTFIMNTVSILVTVIIINWNF--RGPRT-HRMPMYIRSIFLHYLPAFLFMKRPRKTRLRWMMEMP--------------------------------GMSMPA----------------------------HPHPSYGSPAELPKHISAIGGK-----------------QSKMEVMELSDL-------------------------------------------------H-------------HPNCKINRKVNSGGELGLGDGCRRESESSDS----------------------ILLSP--EASKATEAVEFIA------EHLRNEDLYIQTREDWKYVAMVIDRLQLYIFFIVTTAGTVGIL - ACH3_DROME/243-499\n",
      "LIIPCILITSLAILVFYLPSDC-GEKMTLCISVLLALTVFLLLISKIVP-PTSLDVPLVGKYLMFTMVLVTFSIVTSVCVLNVHH--RSPTT-HTMPPWVRTLFLRKLPALLFMKQPQQNCARQRLR------------------------------------------------------------------------------------QRRQTQ-----------------ERAAAATLFLRA-------------------------------------------------G-------------ARACACYANPGAAKAEGLNGYRERQGQGPDPP---------------------APCGC--GLEEAVEGVRFIA------DHMRSEDDDQSVSEDWKYVAMVIDRLFLWIFVFVCVFGTVGMF - ACHB2_CHICK/234-467\n",
      "LIIPCVLITSLAILVFYLPSDC-GEKMTLCISVLLALTVFLLLISKIVP-PTSLDVPLIGKYLMFTMVLVTFSIVTSVCVLNVHH--RSPST-HTMPPWVKLVFLERLPAYLFMKRPENNSPRQK--------------------------------------------------------------------------------------PANCKK-----------------TRAENLCMDPAD-------------------------------------------------F-------------YKNSTYFVNTASAKKYDMKITDTLDNVSSHQDFRLRTG---------------TKFSP--EVQEAIDGVSFIA------EHMKSDDNDQSVIEDWKYVAMVVDRLFLWIFVLVCVLGTVGLF - ACHB4_CHICK/219-456\n",
      "LIIPCVLITSLAILVFYLPSDC-GEKMTLCISVLLALTFFLLLISKIVP-PTSLDIPLIGKYLLFTMVLVTFSIVTTVCVLNVHH--RSPST-HTMASWVKECFLHKLPTFLFMKRPGLEVSLVRVPHPSQLH------------------------------------------------------------------------------LATADT-----------------AATSALGPTSPS-------------------------------------------------N--------------LYGSSMYFVNPVPAAPKSAVSSHTAGLPRDARLRSS----------------GRFRE--DLQEALEGVSFIA------QHLESDDRDQSVIEDWKFVAMVVDRLFLWVFVFVCILGTMGLF - ACHB4_RAT/238-481\n",
      "LIIPCVLITSLAILVFYLPSDC-GEKVTLCMSVLLALTVFLLLISKIVP-PTSLAVPLIGKYLMFTMVLVTFSIVTSVCVLNVHH--RSPST-HYMPEWVKCVFLHKLPAFLLMRRPGRSNVRER--------------------------------------------------------------------------------------FRRKHQ-----------------RKSFSSHQDGDS-------------------------------------------------F-------------FLTDDPGRVCGAWRVGDLPEGSEFRQRVK------------------------VRHDQ--DVDEAIDGVRFIA------EHMKIEDDDEGIIEDWKYVAMVIDRLFLWIFILVCVVGTLGLF - ACHB2_CARAU/211-439\n"
     ]
    }
   ],
   "source": [
    "for record in alignment:\n",
    "    print(\"%s - %s\" % (record.seq, record.id))"
   ]
  },
  {
   "cell_type": "code",
   "execution_count": 9,
   "id": "f2405356-6d7c-4443-8ae2-00e14c03b3cc",
   "metadata": {},
   "outputs": [
    {
     "name": "stdout",
     "output_type": "stream",
     "text": [
      "5HT3A_MOUSE/253-478 ['PDB; 6Y59 B; 227-453;', 'PDB; 6HIS D; 227-453;', 'PDB; 6Y5B A; 227-453;', 'PDB; 6W1Y C; 227-453;', 'PDB; 6BE1 B; 227-453;', 'PDB; 6DG8 E; 227-453;', 'PDB; 6DG7 D; 227-453;', 'PDB; 6W1J E; 227-453;', 'PDB; 6HIN E; 227-453;', 'PDB; 6W1Y E; 227-453;', 'PDB; 6Y5A E; 227-453;', 'PDB; 6HIS A; 227-453;', 'PDB; 6W1J A; 227-453;', 'PDB; 6HIN A; 227-453;', 'PDB; 6HIO E; 227-453;', 'PDB; 6Y5A B; 227-453;', 'PDB; 6HIS E; 227-453;', 'PDB; 6Y1Z D; 227-453;', 'PDB; 4PIR B; 227-453;', 'PDB; 6W1J B; 227-453;', 'PDB; 6BE1 D; 227-453;', 'PDB; 6HIN C; 227-453;', 'PDB; 6W1J C; 227-453;', 'PDB; 6DG8 A; 227-453;', 'PDB; 6Y59 A; 227-453;', 'PDB; 6Y59 E; 227-453;', 'PDB; 6W1M B; 227-453;', 'PDB; 6DG7 B; 227-453;', 'PDB; 6HIO A; 227-453;', 'PDB; 6W1Y A; 227-453;', 'PDB; 6HIO C; 227-453;', 'PDB; 6DG8 D; 227-453;', 'PDB; 6W1Y B; 227-453;', 'PDB; 6DG8 B; 227-453;', 'PDB; 6NP0 B; 227-453;', 'PDB; 6W1J D; 227-453;', 'PDB; 6W1M E; 227-453;', 'PDB; 6NP0 C; 227-453;', 'PDB; 6HIS C; 227-453;', 'PDB; 6HIQ A; 227-453;', 'PDB; 6Y5B D; 227-453;', 'PDB; 4PIR C; 227-453;', 'PDB; 6Y1Z A; 227-453;', 'PDB; 6Y5A C; 227-453;', 'PDB; 6HIQ E; 227-453;', 'PDB; 6BE1 A; 227-453;', 'PDB; 4PIR D; 227-453;', 'PDB; 6HIN D; 227-453;', 'PDB; 6DG7 A; 227-453;', 'PDB; 6Y59 C; 227-453;', 'PDB; 6BE1 E; 227-453;', 'PDB; 6NP0 A; 227-453;', 'PDB; 6Y5B C; 227-453;', 'PDB; 6DG7 E; 227-453;', 'PDB; 6Y5B B; 227-453;', 'PDB; 6Y1Z C; 227-453;', 'PDB; 6W1M D; 227-453;', 'PDB; 6W1Y D; 227-453;', 'PDB; 6DG8 C; 227-453;', 'PDB; 6Y1Z E; 227-453;', 'PDB; 4PIR A; 227-453;', 'PDB; 6HIQ C; 227-453;', 'PDB; 6W1M A; 227-453;', 'PDB; 6Y5A A; 227-453;', 'PDB; 6BE1 C; 227-453;', 'PDB; 6HIO D; 227-453;', 'PDB; 6Y5B E; 227-453;', 'PDB; 6NP0 E; 227-453;', 'PDB; 6Y59 D; 227-453;', 'PDB; 6Y5A D; 227-453;', 'PDB; 6HIO B; 227-453;', 'PDB; 6HIN B; 227-453;', 'PDB; 6W1M C; 227-453;', 'PDB; 6HIQ B; 227-453;', 'PDB; 6HIQ D; 227-453;', 'PDB; 6NP0 D; 227-453;', 'PDB; 4PIR E; 227-453;', 'PDB; 6Y1Z B; 227-453;', 'PDB; 6DG7 C; 227-453;', 'PDB; 6HIS B; 227-453;']\n",
      "GLRB_RAT/273-492 ['PDB; 2FTS P; 398-410;', 'PDB; 4PD1 C; 397-406;']\n",
      "ACHD_TETCF/253-494 ['PDB; 6UWZ B; 232-473;', 'PDB; 1EQ8 A; 1-23;', 'PDB; 1EQ8 C; 1-23;', 'PDB; 1EQ8 E; 1-23;', 'PDB; 1EQ8 B; 1-23;', 'PDB; 1EQ8 D; 1-23;', 'PDB; 1OED C; 232-473;']\n",
      "ACHG_TETCF/243-484 ['PDB; 1OED E; 226-467;', 'PDB; 6UWZ E; 226-467;']\n",
      "ACHB_TETCF/248-479 ['PDB; 1OED B; 224-455;', 'PDB; 6UWZ C; 224-455;']\n"
     ]
    }
   ],
   "source": [
    "for record in alignment:\n",
    "    if record.dbxrefs:\n",
    "        print(\"%s %s\" % (record.id, record.dbxrefs))"
   ]
  },
  {
   "cell_type": "code",
   "execution_count": 10,
   "id": "b7d44c8c-ddb7-45b4-8cb3-3cc5f1454b26",
   "metadata": {},
   "outputs": [
    {
     "name": "stdout",
     "output_type": "stream",
     "text": [
      "ID: ACHA2_RAT/249-502\n",
      "Name: ACHA2_RAT\n",
      "Description: ACHA2_RAT/249-502\n",
      "Number of features: 0\n",
      "/accession=P12389.2\n",
      "/start=249\n",
      "/end=502\n",
      "Seq('LIIPCLLISCLTVLVFYLPSEC-GEKITLCISVLLSLTVFLLLITEIIP-STSL...GLF')\n",
      "ID: ACHA2_CHICK/247-519\n",
      "Name: ACHA2_CHICK\n",
      "Description: ACHA2_CHICK/247-519\n",
      "Number of features: 0\n",
      "/accession=P09480.1\n",
      "/start=247\n",
      "/end=519\n",
      "Seq('LIIPCLLISCLTVLVFYLPSDC-GEKITLCISVLLSLTVFLLLITEIIP-STSL...GLF')\n",
      "ID: ACHA4_CHICK/245-613\n",
      "Name: ACHA4_CHICK\n",
      "Description: ACHA4_CHICK/245-613\n",
      "Number of features: 0\n",
      "/accession=P09482.1\n",
      "/start=245\n",
      "/end=613\n",
      "Seq('LIIPCLLISCLTVLVFYLPSEC-GEKITLCISVLLSLTVFLLLITEIIP-STSL...GLF')\n",
      "ID: ACHA4_RAT/252-622\n",
      "Name: ACHA4_RAT\n",
      "Description: ACHA4_RAT/252-622\n",
      "Number of features: 0\n",
      "/accession=P09483.3\n",
      "/start=252\n",
      "/end=622\n",
      "Seq('LIIPCLLISCLTVLVFYLPSEC-GEKVTLCISVLLSLTVFLLLITEIIPSPTSL...GLF')\n",
      "ID: ACHA3_CARAU/240-503\n",
      "Name: ACHA3_CARAU\n",
      "Description: ACHA3_CARAU/240-503\n",
      "Number of features: 0\n",
      "/accession=P18845.1\n",
      "/start=240\n",
      "/end=503\n",
      "Seq('LIIPCLLISFLTILVFYLPSDC-GEKVTLCISVLLSLTVFLLVITETIP-STSL...GLF')\n",
      "ID: ACHA3_CHICK/239-486\n",
      "Name: ACHA3_CHICK\n",
      "Description: ACHA3_CHICK/239-486\n",
      "Number of features: 0\n",
      "/accession=P09481.2\n",
      "/start=239\n",
      "/end=486\n",
      "Seq('MIIPCLLISFLTVLVFYLPSDC-GEKVTLCISVLLSLTVFLLVITETIP-STSL...GLF')\n",
      "ID: ACHAA_XENLA/238-446\n",
      "Name: ACHAA_XENLA\n",
      "Description: ACHAA_XENLA/238-446\n",
      "Number of features: 0\n",
      "/accession=P22456.1\n",
      "/start=238\n",
      "/end=446\n",
      "Seq('VVIPCLLFSFLTGLVFYLPTDS-GEKITLSVSVLLSLVVFLLVIVELIP-STSS...AIF')\n",
      "ID: ACHB3_RAT/246-452\n",
      "Name: ACHB3_RAT\n",
      "Description: ACHB3_RAT/246-452\n",
      "Number of features: 0\n",
      "/accession=P12391.1\n",
      "/start=246\n",
      "/end=452\n",
      "Seq('LIIPCLGLSFLTVLVFYLPSDE-GEKLSLSTSVLVSLTVFLLVIEEIIP-SSSK...LIF')\n",
      "ID: ACHN2_CARAU/242-446\n",
      "Name: ACHN2_CARAU\n",
      "Description: ACHN2_CARAU/242-446\n",
      "Number of features: 0\n",
      "/accession=P13908.1\n",
      "/start=242\n",
      "/end=446\n",
      "Seq('LIIPCLGLSFLTVLVFYLPSDE-GEKVSLSTSVLVSLTVFLLVIEEIIP-SSSK...LIF')\n",
      "ID: B4HH26_DROSE/268-544\n",
      "Name: B4HH26_DROSE\n",
      "Description: B4HH26_DROSE/268-544\n",
      "Number of features: 0\n",
      "/accession=B4HH26.1\n",
      "/start=268\n",
      "/end=544\n",
      "Seq('LIIPCVGISYLSVLVFYLPADS-GEKIALCISILLSQTMFFLLISEIIP-STSL...VIL')\n",
      "ID: ACH1_SCHGR/249-526\n",
      "Name: ACH1_SCHGR\n",
      "Description: ACH1_SCHGR/249-526\n",
      "Number of features: 0\n",
      "/accession=P23414.1\n",
      "/start=249\n",
      "/end=526\n",
      "Seq('LIVPCVGISYLSVLVFYLPADS-GEKIALCISILLSQTMFFLLISEIIP-STSL...AIL')\n",
      "ID: B4QT71_DROSI/252-480\n",
      "Name: B4QT71_DROSI\n",
      "Description: B4QT71_DROSI/252-480\n",
      "Number of features: 0\n",
      "/accession=B4QT71.1\n",
      "/start=252\n",
      "/end=480\n",
      "Seq('LIVPCVALTFLTVLVFYLPSDS-GEKVTLCISILVSLTVFFLLLAEIIP-PTSL...AII')\n",
      "ID: ACH1_DROME/247-531\n",
      "Name: ACH1_DROME\n",
      "Description: ACH1_DROME/247-531\n",
      "Number of features: 0\n",
      "/accession=P09478.2\n",
      "/start=247\n",
      "/end=531\n",
      "Seq('LIIPCVGISFLSVLVFYLPSDS-GEKISLCISILLSLTVFFLLLAEIIP-PTSL...LII')\n",
      "ID: ACHA7_CHICK/237-487\n",
      "Name: ACHA7_CHICK\n",
      "Description: ACHA7_CHICK/237-487\n",
      "Number of features: 0\n",
      "/accession=P22770.1\n",
      "/start=237\n",
      "/end=487\n",
      "Seq('LLIPCVLISALALLVFLLPADS-GEKISLGITVLLSLTVFMLLVAEIMP-ATSD...GIL')\n",
      "ID: 5HT3A_MOUSE/253-478\n",
      "Name: 5HT3A_MOUSE\n",
      "Description: 5HT3A_MOUSE/253-478\n",
      "Database cross-references: PDB; 6Y59 B; 227-453;, PDB; 6HIS D; 227-453;, PDB; 6Y5B A; 227-453;, PDB; 6W1Y C; 227-453;, PDB; 6BE1 B; 227-453;, PDB; 6DG8 E; 227-453;, PDB; 6DG7 D; 227-453;, PDB; 6W1J E; 227-453;, PDB; 6HIN E; 227-453;, PDB; 6W1Y E; 227-453;, PDB; 6Y5A E; 227-453;, PDB; 6HIS A; 227-453;, PDB; 6W1J A; 227-453;, PDB; 6HIN A; 227-453;, PDB; 6HIO E; 227-453;, PDB; 6Y5A B; 227-453;, PDB; 6HIS E; 227-453;, PDB; 6Y1Z D; 227-453;, PDB; 4PIR B; 227-453;, PDB; 6W1J B; 227-453;, PDB; 6BE1 D; 227-453;, PDB; 6HIN C; 227-453;, PDB; 6W1J C; 227-453;, PDB; 6DG8 A; 227-453;, PDB; 6Y59 A; 227-453;, PDB; 6Y59 E; 227-453;, PDB; 6W1M B; 227-453;, PDB; 6DG7 B; 227-453;, PDB; 6HIO A; 227-453;, PDB; 6W1Y A; 227-453;, PDB; 6HIO C; 227-453;, PDB; 6DG8 D; 227-453;, PDB; 6W1Y B; 227-453;, PDB; 6DG8 B; 227-453;, PDB; 6NP0 B; 227-453;, PDB; 6W1J D; 227-453;, PDB; 6W1M E; 227-453;, PDB; 6NP0 C; 227-453;, PDB; 6HIS C; 227-453;, PDB; 6HIQ A; 227-453;, PDB; 6Y5B D; 227-453;, PDB; 4PIR C; 227-453;, PDB; 6Y1Z A; 227-453;, PDB; 6Y5A C; 227-453;, PDB; 6HIQ E; 227-453;, PDB; 6BE1 A; 227-453;, PDB; 4PIR D; 227-453;, PDB; 6HIN D; 227-453;, PDB; 6DG7 A; 227-453;, PDB; 6Y59 C; 227-453;, PDB; 6BE1 E; 227-453;, PDB; 6NP0 A; 227-453;, PDB; 6Y5B C; 227-453;, PDB; 6DG7 E; 227-453;, PDB; 6Y5B B; 227-453;, PDB; 6Y1Z C; 227-453;, PDB; 6W1M D; 227-453;, PDB; 6W1Y D; 227-453;, PDB; 6DG8 C; 227-453;, PDB; 6Y1Z E; 227-453;, PDB; 4PIR A; 227-453;, PDB; 6HIQ C; 227-453;, PDB; 6W1M A; 227-453;, PDB; 6Y5A A; 227-453;, PDB; 6BE1 C; 227-453;, PDB; 6HIO D; 227-453;, PDB; 6Y5B E; 227-453;, PDB; 6NP0 E; 227-453;, PDB; 6Y59 D; 227-453;, PDB; 6Y5A D; 227-453;, PDB; 6HIO B; 227-453;, PDB; 6HIN B; 227-453;, PDB; 6W1M C; 227-453;, PDB; 6HIQ B; 227-453;, PDB; 6HIQ D; 227-453;, PDB; 6NP0 D; 227-453;, PDB; 4PIR E; 227-453;, PDB; 6Y1Z B; 227-453;, PDB; 6DG7 C; 227-453;, PDB; 6HIS B; 227-453;\n",
      "Number of features: 0\n",
      "/accession=P23979.1\n",
      "/start=253\n",
      "/end=478\n",
      "Per letter annotation for: secondary_structure\n",
      "Seq('LLLPSIFLMVVDIVGFCLPPDS-GERVSFKITLLLGYSVFLIIVSDTLP--ATI...TLV')\n",
      "ID: GBRA6_MOUSE/247-437\n",
      "Name: GBRA6_MOUSE\n",
      "Description: GBRA6_MOUSE/247-437\n",
      "Number of features: 0\n",
      "/accession=P16305.3\n",
      "/start=247\n",
      "/end=437\n",
      "Seq('IYTPCIMTVILSQVSFWINKESVPARTVFGITTVLTMTTLSISARHSLP-KVSY...VYW')\n",
      "ID: GBRA4_BOVIN/263-539\n",
      "Name: GBRA4_BOVIN\n",
      "Description: GBRA4_BOVIN/263-539\n",
      "Number of features: 0\n",
      "/accession=P20237.2\n",
      "/start=263\n",
      "/end=539\n",
      "Seq('TYIPCIMTVILSQVSFWINKESVPARTVFGITTVLTMTTLSISARHSLP-KVSY...VYW')\n",
      "ID: GBRG1_RAT/277-459\n",
      "Name: GBRG1_RAT\n",
      "Description: GBRG1_RAT/277-459\n",
      "Number of features: 0\n",
      "/accession=P23574.1\n",
      "/start=277\n",
      "/end=459\n",
      "Seq('TYIPCILTVVLSWVSFWINKDAVPARTSLGITTVLTMTTLSTIARKSLP-KVSY...VYW')\n",
      "ID: GBRG2_BOVIN/279-469\n",
      "Name: GBRG2_BOVIN\n",
      "Description: GBRG2_BOVIN/279-469\n",
      "Number of features: 0\n",
      "/accession=P22300.1\n",
      "/start=279\n",
      "/end=469\n",
      "Seq('TYIPCTLIVVLSWVSFWINKDAVPARTSLGITTVLTMTTLSTIARKSLP-KVSY...VYW')\n",
      "ID: GBRG3_MOUSE/260-461\n",
      "Name: GBRG3_MOUSE\n",
      "Description: GBRG3_MOUSE/260-461\n",
      "Number of features: 0\n",
      "/accession=P27681.2\n",
      "/start=260\n",
      "/end=461\n",
      "Seq('TYIPCILTVVLSWVSFWIKKDATPARTTLGITTVLTMTTLSTIARKSLP-RVSY...VYW')\n",
      "ID: GBRG4_CHICK/262-451\n",
      "Name: GBRG4_CHICK\n",
      "Description: GBRG4_CHICK/262-451\n",
      "Number of features: 0\n",
      "/accession=P34904.1\n",
      "/start=262\n",
      "/end=451\n",
      "Seq('TYIPCILTVVLSWVSFWIKRDSTPARTSLGITTVLTMTTLSTISRKHLP-RVSY...VYW')\n",
      "ID: GBRR2_HUMAN/268-461\n",
      "Name: GBRR2_HUMAN\n",
      "Description: GBRR2_HUMAN/268-461\n",
      "Number of features: 0\n",
      "/accession=P28476.5\n",
      "/start=268\n",
      "/end=461\n",
      "Seq('TYFPATLMVMLSWVSFWIDRRAVPARVSLGITTVLTMTTIITGVNASMP-RVSY...IYW')\n",
      "ID: GBRR1_HUMAN/288-475\n",
      "Name: GBRR1_HUMAN\n",
      "Description: GBRR1_HUMAN/288-475\n",
      "Number of features: 0\n",
      "/accession=P24046.2\n",
      "/start=288\n",
      "/end=475\n",
      "Seq('TYFPATLMVMLSWVSFWIDRRAVPARVPLGITTVLTMSTIITGVNASMP-RVSY...IYW')\n",
      "ID: GBRB_LYMST/256-493\n",
      "Name: GBRB_LYMST\n",
      "Description: GBRB_LYMST/256-493\n",
      "Number of features: 0\n",
      "/accession=P26714.1\n",
      "/start=256\n",
      "/end=493\n",
      "Seq('TYLPSILIVMLSWVSFWINHEATSARVALGITTVLTMTTISNGVRSSLP-RISY...SYW')\n",
      "ID: GBRB3_CHICK/250-471\n",
      "Name: GBRB3_CHICK\n",
      "Description: GBRB3_CHICK/250-471\n",
      "Number of features: 0\n",
      "/accession=P19019.1\n",
      "/start=250\n",
      "/end=471\n",
      "Seq('TYMPSILITILSWVSFWINYDASAARVALGITTVLTMTTINTHLRETLP-KIPY...IYW')\n",
      "ID: GBRB4_CHICK/249-483\n",
      "Name: GBRB4_CHICK\n",
      "Description: GBRB4_CHICK/249-483\n",
      "Number of features: 0\n",
      "/accession=P24045.1\n",
      "/start=249\n",
      "/end=483\n",
      "Seq('TYMPSILITILSWVSFWINYDASAARVALGVTTVLTMTTINTHLRETLP-KIPY...VYW')\n",
      "ID: GBRB1_BOVIN/250-469\n",
      "Name: GBRB1_BOVIN\n",
      "Description: GBRB1_BOVIN/250-469\n",
      "Number of features: 0\n",
      "/accession=P08220.1\n",
      "/start=250\n",
      "/end=469\n",
      "Seq('TYMPSTLITILSWVSFWINYDASAARVALGITTVLTMTTISTHLRETLP-KIPY...VYW')\n",
      "ID: GLRB_RAT/273-492\n",
      "Name: GLRB_RAT\n",
      "Description: GLRB_RAT/273-492\n",
      "Database cross-references: PDB; 2FTS P; 398-410;, PDB; 4PD1 C; 397-406;\n",
      "Number of features: 0\n",
      "/accession=P20781.1\n",
      "/start=273\n",
      "/end=492\n",
      "Per letter annotation for: secondary_structure\n",
      "Seq('VYAPTLLIVVLSWLSFWINPDASAARVPLGIFSVLSLASECTTLAAELP-KVSY...IYW')\n",
      "ID: G3REP2_GORGO/255-443\n",
      "Name: G3REP2_GORGO\n",
      "Description: G3REP2_GORGO/255-443\n",
      "Number of features: 0\n",
      "/accession=G3REP2.1\n",
      "/start=255\n",
      "/end=443\n",
      "Seq('MYIPSLLIVILSWISFWINMDAAPARVGLGITTVLTMTTQSSGSRASLP-KVSY...FYW')\n",
      "ID: GBRB_DROME/274-586\n",
      "Name: GBRB_DROME\n",
      "Description: GBRB_DROME/274-586\n",
      "Number of features: 0\n",
      "/accession=P25123.4\n",
      "/start=274\n",
      "/end=586\n",
      "Seq('IYIPSGLIVIISWVSFWLNRNATPARVALGVTTVLTMTTLMSSTNAALP-KISY...MYW')\n",
      "ID: GBRD_MOUSE/254-444\n",
      "Name: GBRD_MOUSE\n",
      "Description: GBRD_MOUSE/254-444\n",
      "Number of features: 0\n",
      "/accession=P22933.1\n",
      "/start=254\n",
      "/end=444\n",
      "Seq('SYMPSVLLVAMSWVSFWISQAAVPARVSLGITTVLTMTTLMVSARSSLP-RASA...IYW')\n",
      "ID: GBRA3_BOVIN/282-475\n",
      "Name: GBRA3_BOVIN\n",
      "Description: GBRA3_BOVIN/282-475\n",
      "Number of features: 0\n",
      "/accession=P10064.1\n",
      "/start=282\n",
      "/end=475\n",
      "Seq('TYLPCIMTVILSQVSFWLNRESVPARTVFGVTTVLTMTTLSISARNSLP-KVAY...VYW')\n",
      "ID: A0A452F9D8_CAPHI/257-439\n",
      "Name: A0A452F9D8_CAPHI\n",
      "Description: A0A452F9D8_CAPHI/257-439\n",
      "Number of features: 0\n",
      "/accession=A0A452F9D8.1\n",
      "/start=257\n",
      "/end=439\n",
      "Seq('TYLPCIMTVILSQVSFWLNRESVPARTVFGVTTVLTMTTLSISARNSLP-KVAY...VYW')\n",
      "ID: A0A2I3GX20_NOMLE/264-445\n",
      "Name: A0A2I3GX20_NOMLE\n",
      "Description: A0A2I3GX20_NOMLE/264-445\n",
      "Number of features: 0\n",
      "/accession=A0A2I3GX20.1\n",
      "/start=264\n",
      "/end=445\n",
      "Seq('TYLPCIMTVILSQVSFWLNRESVPARTVFGVTTVLTMTTLSISARNSLP-KVAY...VYW')\n",
      "ID: ACHD_TETCF/253-494\n",
      "Name: ACHD_TETCF\n",
      "Description: ACHD_TETCF/253-494\n",
      "Database cross-references: PDB; 6UWZ B; 232-473;, PDB; 1EQ8 A; 1-23;, PDB; 1EQ8 C; 1-23;, PDB; 1EQ8 E; 1-23;, PDB; 1EQ8 B; 1-23;, PDB; 1EQ8 D; 1-23;, PDB; 1OED C; 232-473;\n",
      "Number of features: 0\n",
      "/accession=P02718.1\n",
      "/start=253\n",
      "/end=494\n",
      "Per letter annotation for: secondary_structure\n",
      "Seq('FITPCVLISFLASLAFYLPAES-GEKMSTAISVLLAQAVFLLLTSQRLP-ETAL...FIF')\n",
      "ID: B7ZQ13_XENLA/255-493\n",
      "Name: B7ZQ13_XENLA\n",
      "Description: B7ZQ13_XENLA/255-493\n",
      "Number of features: 0\n",
      "/accession=B7ZQ13.1\n",
      "/start=255\n",
      "/end=493\n",
      "Seq('ILAPCVLIALMANLVFYLPADS-GEKMTLAISVLLAQSVFLLLISQRLP-ETSF...WIF')\n",
      "ID: ACHD_BOVIN/252-488\n",
      "Name: ACHD_BOVIN\n",
      "Description: ACHD_BOVIN/252-488\n",
      "Number of features: 0\n",
      "/accession=P04759.1\n",
      "/start=252\n",
      "/end=488\n",
      "Seq('ILVPCVLISFMINLVFYLPADC-GEKTSMAISVLLAQSVFLLLISKRLP-ATSM...WIF')\n",
      "ID: ACHD_CHICK/252-485\n",
      "Name: ACHD_CHICK\n",
      "Description: ACHD_CHICK/252-485\n",
      "Number of features: 0\n",
      "/accession=P02717.1\n",
      "/start=252\n",
      "/end=485\n",
      "Seq('IVTPCVLIAFMAILVFYLPADS-GEKMTLVISVLLAQSVFLLLVSQRLP-ATSH...WIF')\n",
      "ID: ACHG_CHICK/249-491\n",
      "Name: ACHG_CHICK\n",
      "Description: ACHG_CHICK/249-491\n",
      "Number of features: 0\n",
      "/accession=P02713.1\n",
      "/start=249\n",
      "/end=491\n",
      "Seq('IIVPCVLISSMAVLVYFLPAKAGGQKCTVSINVLLAQTVFLFLIAQKVP-ETSQ...GIF')\n",
      "ID: ACHG_BOVIN/248-494\n",
      "Name: ACHG_BOVIN\n",
      "Description: ACHG_BOVIN/248-494\n",
      "Number of features: 0\n",
      "/accession=P13536.1\n",
      "/start=248\n",
      "/end=494\n",
      "Seq('IIAPCVLISSVAILIYFLPAKAGGQKCTVAINVLLAQTVFLFLVAKKVP-ETSQ...GIF')\n",
      "ID: ACHG_XENLA/242-486\n",
      "Name: ACHG_XENLA\n",
      "Description: ACHG_XENLA/242-486\n",
      "Number of features: 0\n",
      "/accession=P05376.1\n",
      "/start=242\n",
      "/end=486\n",
      "Seq('IIVPCVLISFVSILVYFLPAKAGGQKCTVSINILLAQTVFLFLVAQKIP-ETST...GTF')\n",
      "ID: ACHE_BOVIN/247-474\n",
      "Name: ACHE_BOVIN\n",
      "Description: ACHE_BOVIN/247-474\n",
      "Number of features: 0\n",
      "/accession=P02715.1\n",
      "/start=247\n",
      "/end=474\n",
      "Seq('IIVPCVLISGLVLLAYFLPAQAGGQKCTVSINVLLAQTVFLFLIAQKTP-ETSL...LIF')\n",
      "ID: ACHG_TETCF/243-484\n",
      "Name: ACHG_TETCF\n",
      "Description: ACHG_TETCF/243-484\n",
      "Database cross-references: PDB; 1OED E; 226-467;, PDB; 6UWZ E; 226-467;\n",
      "Number of features: 0\n",
      "/accession=P02714.1\n",
      "/start=243\n",
      "/end=484\n",
      "Per letter annotation for: secondary_structure\n",
      "Seq('IIAPCVLISSLVVLVYFLPAQAGGQKCTLSISVLLAQTIFLFLIAQKVP-ETSL...AIF')\n",
      "ID: ACHB_TETCF/248-479\n",
      "Name: ACHB_TETCF\n",
      "Description: ACHB_TETCF/248-479\n",
      "Database cross-references: PDB; 1OED B; 224-455;, PDB; 6UWZ C; 224-455;\n",
      "Number of features: 0\n",
      "/accession=P02712.1\n",
      "/start=248\n",
      "/end=479\n",
      "Per letter annotation for: secondary_structure\n",
      "Seq('TIIPCILISILAILVFYLPPDA-GEKMSLSISALLAVTVFLLLLADKVP-ETSL...SIF')\n",
      "ID: ACHB_BOVIN/253-491\n",
      "Name: ACHB_BOVIN\n",
      "Description: ACHB_BOVIN/253-491\n",
      "Number of features: 0\n",
      "/accession=P04758.1\n",
      "/start=253\n",
      "/end=491\n",
      "Seq('VIAPCILITLLAIFVFYLPPDA-GEKMGLSIFALLTLTVFLLLLADKVP-ETSL...VIF')\n",
      "ID: ACH3_DROME/243-499\n",
      "Name: ACH3_DROME\n",
      "Description: ACH3_DROME/243-499\n",
      "Number of features: 0\n",
      "/accession=P04755.1\n",
      "/start=243\n",
      "/end=499\n",
      "Seq('LILPTVLISFLCVLVFYLPAEA-GEKVTLGISILLSLVVFLLLVSKILP-PTSL...GIL')\n",
      "ID: ACHB2_CHICK/234-467\n",
      "Name: ACHB2_CHICK\n",
      "Description: ACHB2_CHICK/234-467\n",
      "Number of features: 0\n",
      "/accession=P09484.1\n",
      "/start=234\n",
      "/end=467\n",
      "Seq('LIIPCILITSLAILVFYLPSDC-GEKMTLCISVLLALTVFLLLISKIVP-PTSL...GMF')\n",
      "ID: ACHB4_CHICK/219-456\n",
      "Name: ACHB4_CHICK\n",
      "Description: ACHB4_CHICK/219-456\n",
      "Number of features: 0\n",
      "/accession=P26153.1\n",
      "/start=219\n",
      "/end=456\n",
      "Seq('LIIPCVLITSLAILVFYLPSDC-GEKMTLCISVLLALTVFLLLISKIVP-PTSL...GLF')\n",
      "ID: ACHB4_RAT/238-481\n",
      "Name: ACHB4_RAT\n",
      "Description: ACHB4_RAT/238-481\n",
      "Number of features: 0\n",
      "/accession=P12392.1\n",
      "/start=238\n",
      "/end=481\n",
      "Seq('LIIPCVLITSLAILVFYLPSDC-GEKMTLCISVLLALTFFLLLISKIVP-PTSL...GLF')\n",
      "ID: ACHB2_CARAU/211-439\n",
      "Name: ACHB2_CARAU\n",
      "Description: ACHB2_CARAU/211-439\n",
      "Number of features: 0\n",
      "/accession=P19370.1\n",
      "/start=211\n",
      "/end=439\n",
      "Seq('LIIPCVLITSLAILVFYLPSDC-GEKVTLCMSVLLALTVFLLLISKIVP-PTSL...GLF')\n"
     ]
    }
   ],
   "source": [
    "for record in alignment:\n",
    "    print(record)"
   ]
  },
  {
   "cell_type": "code",
   "execution_count": 11,
   "id": "9d13d119-f4bf-4a7d-94f4-03640e963c96",
   "metadata": {},
   "outputs": [
    {
     "name": "stdout",
     "output_type": "stream",
     "text": [
      "Alignment with 50 rows and 431 columns\n",
      "LIIPCLLISCLTVLVFYLPSEC.GEKITLCISVLLSLTVFLLLI...GLF ACHA2_RAT/249-502\n",
      "LIIPCLLISCLTVLVFYLPSDC.GEKITLCISVLLSLTVFLLLI...GLF ACHA2_CHICK/247-519\n",
      "LIIPCLLISCLTVLVFYLPSEC.GEKITLCISVLLSLTVFLLLI...GLF ACHA4_CHICK/245-613\n",
      "LIIPCLLISCLTVLVFYLPSEC.GEKVTLCISVLLSLTVFLLLI...GLF ACHA4_RAT/252-622\n",
      "LIIPCLLISFLTILVFYLPSDC.GEKVTLCISVLLSLTVFLLVI...GLF ACHA3_CARAU/240-503\n",
      "MIIPCLLISFLTVLVFYLPSDC.GEKVTLCISVLLSLTVFLLVI...GLF ACHA3_CHICK/239-486\n",
      "VVIPCLLFSFLTGLVFYLPTDS.GEKITLSVSVLLSLVVFLLVI...AIF ACHAA_XENLA/238-446\n",
      "LIIPCLGLSFLTVLVFYLPSDE.GEKLSLSTSVLVSLTVFLLVI...LIF ACHB3_RAT/246-452\n",
      "LIIPCLGLSFLTVLVFYLPSDE.GEKVSLSTSVLVSLTVFLLVI...LIF ACHN2_CARAU/242-446\n",
      "LIIPCVGISYLSVLVFYLPADS.GEKIALCISILLSQTMFFLLI...VIL B4HH26_DROSE/268-544\n",
      "LIVPCVGISYLSVLVFYLPADS.GEKIALCISILLSQTMFFLLI...AIL ACH1_SCHGR/249-526\n",
      "LIVPCVALTFLTVLVFYLPSDS.GEKVTLCISILVSLTVFFLLL...AII B4QT71_DROSI/252-480\n",
      "LIIPCVGISFLSVLVFYLPSDS.GEKISLCISILLSLTVFFLLL...LII ACH1_DROME/247-531\n",
      "LLIPCVLISALALLVFLLPADS.GEKISLGITVLLSLTVFMLLV...GIL ACHA7_CHICK/237-487\n",
      "LLLPSIFLMVVDIVGFCLPPDS.GERVSFKITLLLGYSVFLIIV...TLV 5HT3A_MOUSE/253-478\n",
      "IYTPCIMTVILSQVSFWINKESVPARTVFGITTVLTMTTLSISA...VYW GBRA6_MOUSE/247-437\n",
      "TYIPCIMTVILSQVSFWINKESVPARTVFGITTVLTMTTLSISA...VYW GBRA4_BOVIN/263-539\n",
      "TYIPCILTVVLSWVSFWINKDAVPARTSLGITTVLTMTTLSTIA...VYW GBRG1_RAT/277-459\n",
      "...\n",
      "LIIPCVLITSLAILVFYLPSDC.GEKVTLCMSVLLALTVFLLLI...GLF ACHB2_CARAU/211-439\n"
     ]
    }
   ],
   "source": [
    "from Bio import AlignIO\n",
    "alignment = AlignIO.read(\"PF02932_seed.txt\", \"fasta\")\n",
    "print(alignment)"
   ]
  },
  {
   "cell_type": "code",
   "execution_count": 12,
   "id": "699b43ec-4dfd-40cf-b723-22f2b608dee4",
   "metadata": {},
   "outputs": [
    {
     "name": "stdout",
     "output_type": "stream",
     "text": [
      "Help on package Bio.AlignIO in Bio:\n",
      "\n",
      "NAME\n",
      "    Bio.AlignIO - Multiple sequence alignment input/output as alignment objects.\n",
      "\n",
      "DESCRIPTION\n",
      "    The Bio.AlignIO interface is deliberately very similar to Bio.SeqIO, and in\n",
      "    fact the two are connected internally.  Both modules use the same set of file\n",
      "    format names (lower case strings).  From the user's perspective, you can read\n",
      "    in a PHYLIP file containing one or more alignments using Bio.AlignIO, or you\n",
      "    can read in the sequences within these alignments using Bio.SeqIO.\n",
      "    \n",
      "    Bio.AlignIO is also documented at http://biopython.org/wiki/AlignIO and by\n",
      "    a whole chapter in our tutorial:\n",
      "    \n",
      "    * `HTML Tutorial`_\n",
      "    * `PDF Tutorial`_\n",
      "    \n",
      "    .. _`HTML Tutorial`: http://biopython.org/DIST/docs/tutorial/Tutorial.html\n",
      "    .. _`PDF Tutorial`: http://biopython.org/DIST/docs/tutorial/Tutorial.pdf\n",
      "    \n",
      "    Input\n",
      "    -----\n",
      "    For the typical special case when your file or handle contains one and only\n",
      "    one alignment, use the function Bio.AlignIO.read().  This takes an input file\n",
      "    handle (or in recent versions of Biopython a filename as a string), format\n",
      "    string and optional number of sequences per alignment.  It will return a single\n",
      "    MultipleSeqAlignment object (or raise an exception if there isn't just one\n",
      "    alignment):\n",
      "    \n",
      "    >>> from Bio import AlignIO\n",
      "    >>> align = AlignIO.read(\"Phylip/interlaced.phy\", \"phylip\")\n",
      "    >>> print(align)\n",
      "    Alignment with 3 rows and 384 columns\n",
      "    -----MKVILLFVLAVFTVFVSS---------------RGIPPE...I-- CYS1_DICDI\n",
      "    MAHARVLLLALAVLATAAVAVASSSSFADSNPIRPVTDRAASTL...VAA ALEU_HORVU\n",
      "    ------MWATLPLLCAGAWLLGV--------PVCGAAELSVNSL...PLV CATH_HUMAN\n",
      "    \n",
      "    For the general case, when the handle could contain any number of alignments,\n",
      "    use the function Bio.AlignIO.parse(...) which takes the same arguments, but\n",
      "    returns an iterator giving MultipleSeqAlignment objects (typically used in a\n",
      "    for loop). If you want random access to the alignments by number, turn this\n",
      "    into a list:\n",
      "    \n",
      "    >>> from Bio import AlignIO\n",
      "    >>> alignments = list(AlignIO.parse(\"Emboss/needle.txt\", \"emboss\"))\n",
      "    >>> print(alignments[2])\n",
      "    Alignment with 2 rows and 120 columns\n",
      "    -KILIVDDQYGIRILLNEVFNKEGYQTFQAANGLQALDIVTKER...--- ref_rec\n",
      "    LHIVVVDDDPGTCVYIESVFAELGHTCKSFVRPEAAEEYILTHP...HKE gi|94967506|receiver\n",
      "    \n",
      "    Most alignment file formats can be concatenated so as to hold as many\n",
      "    different multiple sequence alignments as possible.  One common example\n",
      "    is the output of the tool seqboot in the PHLYIP suite.  Sometimes there\n",
      "    can be a file header and footer, as seen in the EMBOSS alignment output.\n",
      "    \n",
      "    Output\n",
      "    ------\n",
      "    Use the function Bio.AlignIO.write(...), which takes a complete set of\n",
      "    Alignment objects (either as a list, or an iterator), an output file handle\n",
      "    (or filename in recent versions of Biopython) and of course the file format::\n",
      "    \n",
      "        from Bio import AlignIO\n",
      "        alignments = ...\n",
      "        count = SeqIO.write(alignments, \"example.faa\", \"fasta\")\n",
      "    \n",
      "    If using a handle make sure to close it to flush the data to the disk::\n",
      "    \n",
      "        from Bio import AlignIO\n",
      "        alignments = ...\n",
      "        with open(\"example.faa\", \"w\") as handle:\n",
      "            count = SeqIO.write(alignments, handle, \"fasta\")\n",
      "    \n",
      "    In general, you are expected to call this function once (with all your\n",
      "    alignments) and then close the file handle.  However, for file formats\n",
      "    like PHYLIP where multiple alignments are stored sequentially (with no file\n",
      "    header and footer), then multiple calls to the write function should work as\n",
      "    expected when using handles.\n",
      "    \n",
      "    If you are using a filename, the repeated calls to the write functions will\n",
      "    overwrite the existing file each time.\n",
      "    \n",
      "    Conversion\n",
      "    ----------\n",
      "    The Bio.AlignIO.convert(...) function allows an easy interface for simple\n",
      "    alignment file format conversions. Additionally, it may use file format\n",
      "    specific optimisations so this should be the fastest way too.\n",
      "    \n",
      "    In general however, you can combine the Bio.AlignIO.parse(...) function with\n",
      "    the Bio.AlignIO.write(...) function for sequence file conversion. Using\n",
      "    generator expressions provides a memory efficient way to perform filtering or\n",
      "    other extra operations as part of the process.\n",
      "    \n",
      "    File Formats\n",
      "    ------------\n",
      "    When specifying the file format, use lowercase strings.  The same format\n",
      "    names are also used in Bio.SeqIO and include the following:\n",
      "    \n",
      "      - clustal -   Output from Clustal W or X, see also the module Bio.Clustalw\n",
      "        which can be used to run the command line tool from Biopython.\n",
      "      - emboss    - EMBOSS tools' \"pairs\" and \"simple\" alignment formats.\n",
      "      - fasta     - The generic sequence file format where each record starts with\n",
      "        an identifier line starting with a \">\" character, followed by\n",
      "        lines of sequence.\n",
      "      - fasta-m10 - For the pairwise alignments output by Bill Pearson's FASTA\n",
      "        tools when used with the -m 10 command line option for machine\n",
      "        readable output.\n",
      "      - ig        - The IntelliGenetics file format, apparently the same as the\n",
      "        MASE alignment format.\n",
      "      - msf       - The GCG MSF alignment format, originally from PileUp tool.\n",
      "      - nexus     - Output from NEXUS, see also the module Bio.Nexus which can also\n",
      "        read any phylogenetic trees in these files.\n",
      "      - phylip    - Interlaced PHYLIP, as used by the PHYLIP tools.\n",
      "      - phylip-sequential - Sequential PHYLIP.\n",
      "      - phylip-relaxed - PHYLIP like format allowing longer names.\n",
      "      - stockholm - A richly annotated alignment file format used by PFAM.\n",
      "      - mauve - Output from progressiveMauve/Mauve\n",
      "    \n",
      "    Note that while Bio.AlignIO can read all the above file formats, it cannot\n",
      "    write to all of them.\n",
      "    \n",
      "    You can also use any file format supported by Bio.SeqIO, such as \"fasta\" or\n",
      "    \"ig\" (which are listed above), PROVIDED the sequences in your file are all the\n",
      "    same length.\n",
      "\n",
      "PACKAGE CONTENTS\n",
      "    ClustalIO\n",
      "    EmbossIO\n",
      "    FastaIO\n",
      "    Interfaces\n",
      "    MafIO\n",
      "    MauveIO\n",
      "    MsfIO\n",
      "    NexusIO\n",
      "    PhylipIO\n",
      "    StockholmIO\n",
      "\n",
      "FUNCTIONS\n",
      "    convert(in_file, in_format, out_file, out_format, molecule_type=None)\n",
      "        Convert between two alignment files, returns number of alignments.\n",
      "        \n",
      "        Arguments:\n",
      "         - in_file - an input handle or filename\n",
      "         - in_format - input file format, lower case string\n",
      "         - output - an output handle or filename\n",
      "         - out_file - output file format, lower case string\n",
      "         - molecule_type - optional molecule type to apply, string containing\n",
      "           \"DNA\", \"RNA\" or \"protein\".\n",
      "        \n",
      "        **NOTE** - If you provide an output filename, it will be opened which will\n",
      "        overwrite any existing file without warning. This may happen if even the\n",
      "        conversion is aborted (e.g. an invalid out_format name is given).\n",
      "        \n",
      "        Some output formats require the molecule type be specified where this\n",
      "        cannot be determined by the parser. For example, converting to FASTA,\n",
      "        Clustal, or PHYLIP format to NEXUS:\n",
      "        \n",
      "        >>> from io import StringIO\n",
      "        >>> from Bio import AlignIO\n",
      "        >>> handle = StringIO()\n",
      "        >>> AlignIO.convert(\"Phylip/horses.phy\", \"phylip\", handle, \"nexus\", \"DNA\")\n",
      "        1\n",
      "        >>> print(handle.getvalue())\n",
      "        #NEXUS\n",
      "        begin data;\n",
      "        dimensions ntax=10 nchar=40;\n",
      "        format datatype=dna missing=? gap=-;\n",
      "        matrix\n",
      "        Mesohippus   AAAAAAAAAAAAAAAAAAAAAAAAAAAAAAAAAAAAAAAA\n",
      "        Hypohippus   AAACCCCCCCAAAAAAAAACAAAAAAAAAAAAAAAAAAAA\n",
      "        Archaeohip   CAAAAAAAAAAAAAAAACACAAAAAAAAAAAAAAAAAAAA\n",
      "        Parahippus   CAAACAACAACAAAAAAAACAAAAAAAAAAAAAAAAAAAA\n",
      "        Merychippu   CCAACCACCACCCCACACCCAAAAAAAAAAAAAAAAAAAA\n",
      "        'M. secundu' CCAACCACCACCCACACCCCAAAAAAAAAAAAAAAAAAAA\n",
      "        Nannipus     CCAACCACAACCCCACACCCAAAAAAAAAAAAAAAAAAAA\n",
      "        Neohippari   CCAACCCCCCCCCCACACCCAAAAAAAAAAAAAAAAAAAA\n",
      "        Calippus     CCAACCACAACCCACACCCCAAAAAAAAAAAAAAAAAAAA\n",
      "        Pliohippus   CCCACCCCCCCCCACACCCCAAAAAAAAAAAAAAAAAAAA\n",
      "        ;\n",
      "        end;\n",
      "        <BLANKLINE>\n",
      "    \n",
      "    parse(handle, format, seq_count=None)\n",
      "        Iterate over an alignment file as MultipleSeqAlignment objects.\n",
      "        \n",
      "        Arguments:\n",
      "         - handle    - handle to the file, or the filename as a string\n",
      "           (note older versions of Biopython only took a handle).\n",
      "         - format    - string describing the file format.\n",
      "         - seq_count - Optional integer, number of sequences expected in each\n",
      "           alignment.  Recommended for fasta format files.\n",
      "        \n",
      "        If you have the file name in a string 'filename', use:\n",
      "        \n",
      "        >>> from Bio import AlignIO\n",
      "        >>> filename = \"Emboss/needle.txt\"\n",
      "        >>> format = \"emboss\"\n",
      "        >>> for alignment in AlignIO.parse(filename, format):\n",
      "        ...     print(\"Alignment of length %i\" % alignment.get_alignment_length())\n",
      "        Alignment of length 124\n",
      "        Alignment of length 119\n",
      "        Alignment of length 120\n",
      "        Alignment of length 118\n",
      "        Alignment of length 125\n",
      "        \n",
      "        If you have a string 'data' containing the file contents, use::\n",
      "        \n",
      "          from Bio import AlignIO\n",
      "          from io import StringIO\n",
      "          my_iterator = AlignIO.parse(StringIO(data), format)\n",
      "        \n",
      "        Use the Bio.AlignIO.read() function when you expect a single record only.\n",
      "    \n",
      "    read(handle, format, seq_count=None)\n",
      "        Turn an alignment file into a single MultipleSeqAlignment object.\n",
      "        \n",
      "        Arguments:\n",
      "         - handle    - handle to the file, or the filename as a string\n",
      "           (note older versions of Biopython only took a handle).\n",
      "         - format    - string describing the file format.\n",
      "         - seq_count - Optional integer, number of sequences expected in each\n",
      "           alignment.  Recommended for fasta format files.\n",
      "        \n",
      "        If the handle contains no alignments, or more than one alignment,\n",
      "        an exception is raised.  For example, using a PFAM/Stockholm file\n",
      "        containing one alignment:\n",
      "        \n",
      "        >>> from Bio import AlignIO\n",
      "        >>> filename = \"Clustalw/protein.aln\"\n",
      "        >>> format = \"clustal\"\n",
      "        >>> alignment = AlignIO.read(filename, format)\n",
      "        >>> print(\"Alignment of length %i\" % alignment.get_alignment_length())\n",
      "        Alignment of length 411\n",
      "        \n",
      "        If however you want the first alignment from a file containing\n",
      "        multiple alignments this function would raise an exception.\n",
      "        \n",
      "        >>> from Bio import AlignIO\n",
      "        >>> filename = \"Emboss/needle.txt\"\n",
      "        >>> format = \"emboss\"\n",
      "        >>> alignment = AlignIO.read(filename, format)\n",
      "        Traceback (most recent call last):\n",
      "            ...\n",
      "        ValueError: More than one record found in handle\n",
      "        \n",
      "        Instead use:\n",
      "        \n",
      "        >>> from Bio import AlignIO\n",
      "        >>> filename = \"Emboss/needle.txt\"\n",
      "        >>> format = \"emboss\"\n",
      "        >>> alignment = next(AlignIO.parse(filename, format))\n",
      "        >>> print(\"First alignment has length %i\" % alignment.get_alignment_length())\n",
      "        First alignment has length 124\n",
      "        \n",
      "        You must use the Bio.AlignIO.parse() function if you want to read multiple\n",
      "        records from the handle.\n",
      "    \n",
      "    write(alignments, handle, format)\n",
      "        Write complete set of alignments to a file.\n",
      "        \n",
      "        Arguments:\n",
      "         - alignments - A list (or iterator) of MultipleSeqAlignment objects,\n",
      "           or a single alignment object.\n",
      "         - handle    - File handle object to write to, or filename as string\n",
      "           (note older versions of Biopython only took a handle).\n",
      "         - format    - lower case string describing the file format to write.\n",
      "        \n",
      "        You should close the handle after calling this function.\n",
      "        \n",
      "        Returns the number of alignments written (as an integer).\n",
      "\n",
      "FILE\n",
      "    c:\\users\\thomas\\anaconda3\\lib\\site-packages\\bio\\alignio\\__init__.py\n",
      "\n",
      "\n"
     ]
    }
   ],
   "source": [
    "from Bio import AlignIO\n",
    "help(AlignIO)"
   ]
  },
  {
   "cell_type": "code",
   "execution_count": 1,
   "id": "44c7673f-6937-474a-ae7a-103bb9ac3744",
   "metadata": {},
   "outputs": [
    {
     "name": "stdout",
     "output_type": "stream",
     "text": [
      "Alignment with 50 rows and 431 columns\n",
      "LIIPCLLISCLTVLVFYLPSEC-GEKITLCISVLLSLTVFLLLI...GLF ACHA2_RAT/249-502\n",
      "LIIPCLLISCLTVLVFYLPSDC-GEKITLCISVLLSLTVFLLLI...GLF ACHA2_CHICK/247-519\n",
      "LIIPCLLISCLTVLVFYLPSEC-GEKITLCISVLLSLTVFLLLI...GLF ACHA4_CHICK/245-613\n",
      "LIIPCLLISCLTVLVFYLPSEC-GEKVTLCISVLLSLTVFLLLI...GLF ACHA4_RAT/252-622\n",
      "LIIPCLLISFLTILVFYLPSDC-GEKVTLCISVLLSLTVFLLVI...GLF ACHA3_CARAU/240-503\n",
      "MIIPCLLISFLTVLVFYLPSDC-GEKVTLCISVLLSLTVFLLVI...GLF ACHA3_CHICK/239-486\n",
      "VVIPCLLFSFLTGLVFYLPTDS-GEKITLSVSVLLSLVVFLLVI...AIF ACHAA_XENLA/238-446\n",
      "LIIPCLGLSFLTVLVFYLPSDE-GEKLSLSTSVLVSLTVFLLVI...LIF ACHB3_RAT/246-452\n",
      "LIIPCLGLSFLTVLVFYLPSDE-GEKVSLSTSVLVSLTVFLLVI...LIF ACHN2_CARAU/242-446\n",
      "LIIPCVGISYLSVLVFYLPADS-GEKIALCISILLSQTMFFLLI...VIL B4HH26_DROSE/268-544\n",
      "LIVPCVGISYLSVLVFYLPADS-GEKIALCISILLSQTMFFLLI...AIL ACH1_SCHGR/249-526\n",
      "LIVPCVALTFLTVLVFYLPSDS-GEKVTLCISILVSLTVFFLLL...AII B4QT71_DROSI/252-480\n",
      "LIIPCVGISFLSVLVFYLPSDS-GEKISLCISILLSLTVFFLLL...LII ACH1_DROME/247-531\n",
      "LLIPCVLISALALLVFLLPADS-GEKISLGITVLLSLTVFMLLV...GIL ACHA7_CHICK/237-487\n",
      "LLLPSIFLMVVDIVGFCLPPDS-GERVSFKITLLLGYSVFLIIV...TLV 5HT3A_MOUSE/253-478\n",
      "IYTPCIMTVILSQVSFWINKESVPARTVFGITTVLTMTTLSISA...VYW GBRA6_MOUSE/247-437\n",
      "TYIPCIMTVILSQVSFWINKESVPARTVFGITTVLTMTTLSISA...VYW GBRA4_BOVIN/263-539\n",
      "TYIPCILTVVLSWVSFWINKDAVPARTSLGITTVLTMTTLSTIA...VYW GBRG1_RAT/277-459\n",
      "...\n",
      "LIIPCVLITSLAILVFYLPSDC-GEKVTLCMSVLLALTVFLLLI...GLF ACHB2_CARAU/211-439\n",
      "\n"
     ]
    }
   ],
   "source": [
    "from Bio import AlignIO\n",
    "alignments = AlignIO.parse(\"SEED.ann\", \"stockholm\")\n",
    "for alignment in alignments:\n",
    "    print(alignment)\n",
    "    print(\"\")"
   ]
  },
  {
   "cell_type": "code",
   "execution_count": 2,
   "id": "a297a3ed-154e-469e-8099-05e313d45442",
   "metadata": {},
   "outputs": [
    {
     "name": "stdout",
     "output_type": "stream",
     "text": [
      "[<<class 'Bio.Align.MultipleSeqAlignment'> instance (50 records of length 431) at 1d1559ef280>]\n"
     ]
    }
   ],
   "source": [
    "from Bio import AlignIO\n",
    "alignments = list(AlignIO.parse(\"SEED.ann\", \"stockholm\"))\n",
    "last_align = alignments[-1]\n",
    "first_align = alignments[0]\n",
    "print(alignments)"
   ]
  },
  {
   "cell_type": "code",
   "execution_count": 15,
   "id": "9cf0b20d-0145-4e67-9418-9a43854195b1",
   "metadata": {},
   "outputs": [],
   "source": [
    "from Bio.Seq import Seq\n",
    "from Bio.SeqRecord import SeqRecord\n",
    "from Bio.Align import MultipleSeqAlignment\n",
    "\n",
    "align1 = MultipleSeqAlignment([\n",
    "             SeqRecord(Seq(\"ACTGCTAGCTAG\"), id=\"Alpha\"),\n",
    "             SeqRecord(Seq(\"ACT-CTAGCTAG\"), id=\"Beta\"),\n",
    "             SeqRecord(Seq(\"ACTGCTAGDTAG\"), id=\"Gamma\"),\n",
    "         ])\n",
    "\n",
    "align2 = MultipleSeqAlignment([\n",
    "             SeqRecord(Seq(\"GTCAGC-AG\"), id=\"Delta\"),\n",
    "             SeqRecord(Seq(\"GACAGCTAG\"), id=\"Epsilon\"),\n",
    "             SeqRecord(Seq(\"GTCAGCTAG\"), id=\"Zeta\"),\n",
    "         ])\n",
    "\n",
    "align3 = MultipleSeqAlignment([\n",
    "             SeqRecord(Seq(\"ACTAGTACAGCTG\"), id=\"Eta\"),\n",
    "             SeqRecord(Seq(\"ACTAGTACAGCT-\"), id=\"Theta\"),\n",
    "             SeqRecord(Seq(\"-CTACTACAGGTG\"), id=\"Iota\"),\n",
    "         ])\n",
    "\n",
    "my_alignments = [align1, align2, align3]"
   ]
  },
  {
   "cell_type": "code",
   "execution_count": 16,
   "id": "9eb14c39-8c25-474e-84aa-ab68eb9a67bc",
   "metadata": {},
   "outputs": [
    {
     "data": {
      "text/plain": [
       "3"
      ]
     },
     "execution_count": 16,
     "metadata": {},
     "output_type": "execute_result"
    }
   ],
   "source": [
    "from Bio import AlignIO\n",
    "AlignIO.write(my_alignments, \"my_example.phy\", \"phylip\")"
   ]
  },
  {
   "cell_type": "code",
   "execution_count": 17,
   "id": "e570a8f8-919d-4405-bc79-cb4c2a6f5809",
   "metadata": {},
   "outputs": [
    {
     "data": {
      "text/plain": [
       "3"
      ]
     },
     "execution_count": 17,
     "metadata": {},
     "output_type": "execute_result"
    }
   ],
   "source": [
    "len(my_alignments)"
   ]
  },
  {
   "cell_type": "code",
   "execution_count": 18,
   "id": "0ee87a78-7542-4196-a3cf-69a46f69569c",
   "metadata": {},
   "outputs": [
    {
     "name": "stdout",
     "output_type": "stream",
     "text": [
      "Converted 1 alignments\n"
     ]
    }
   ],
   "source": [
    "from Bio import AlignIO\n",
    "count = AlignIO.convert(\"SEED.ann\", \"stockholm\", \"SEED.aln\", \"clustal\")\n",
    "print(\"Converted %i alignments\" % count)"
   ]
  },
  {
   "cell_type": "code",
   "execution_count": 19,
   "id": "325e72cb-5b8a-4778-97de-5db68fd15868",
   "metadata": {},
   "outputs": [
    {
     "data": {
      "text/plain": [
       "1"
      ]
     },
     "execution_count": 19,
     "metadata": {},
     "output_type": "execute_result"
    }
   ],
   "source": [
    "from Bio import AlignIO\n",
    "AlignIO.convert(\"SEED.ann\", \"stockholm\", \"SEED.phy\", \"phylip\")"
   ]
  },
  {
   "cell_type": "code",
   "execution_count": 20,
   "id": "87d86104-1385-4f3c-9740-88b16e682462",
   "metadata": {},
   "outputs": [
    {
     "data": {
      "text/plain": [
       "1"
      ]
     },
     "execution_count": 20,
     "metadata": {},
     "output_type": "execute_result"
    }
   ],
   "source": [
    "from Bio import AlignIO\n",
    "AlignIO.convert(\"SEED.ann\", \"stockholm\", \"SEED2.phy\", \"phylip-relaxed\")"
   ]
  },
  {
   "cell_type": "code",
   "execution_count": 21,
   "id": "768f02b5-0b61-4b12-a839-7d35cb01813b",
   "metadata": {},
   "outputs": [
    {
     "name": "stdout",
     "output_type": "stream",
     "text": [
      "{0: 'ACHA2_RAT/249-502', 1: 'ACHA2_CHICK/247-519', 2: 'ACHA4_CHICK/245-613', 3: 'ACHA4_RAT/252-622', 4: 'ACHA3_CARAU/240-503', 5: 'ACHA3_CHICK/239-486', 6: 'ACHAA_XENLA/238-446', 7: 'ACHB3_RAT/246-452', 8: 'ACHN2_CARAU/242-446', 9: 'B4HH26_DROSE/268-544', 10: 'ACH1_SCHGR/249-526', 11: 'B4QT71_DROSI/252-480', 12: 'ACH1_DROME/247-531', 13: 'ACHA7_CHICK/237-487', 14: '5HT3A_MOUSE/253-478', 15: 'GBRA6_MOUSE/247-437', 16: 'GBRA4_BOVIN/263-539', 17: 'GBRG1_RAT/277-459', 18: 'GBRG2_BOVIN/279-469', 19: 'GBRG3_MOUSE/260-461', 20: 'GBRG4_CHICK/262-451', 21: 'GBRR2_HUMAN/268-461', 22: 'GBRR1_HUMAN/288-475', 23: 'GBRB_LYMST/256-493', 24: 'GBRB3_CHICK/250-471', 25: 'GBRB4_CHICK/249-483', 26: 'GBRB1_BOVIN/250-469', 27: 'GLRB_RAT/273-492', 28: 'G3REP2_GORGO/255-443', 29: 'GBRB_DROME/274-586', 30: 'GBRD_MOUSE/254-444', 31: 'GBRA3_BOVIN/282-475', 32: 'A0A452F9D8_CAPHI/257-439', 33: 'A0A2I3GX20_NOMLE/264-445', 34: 'ACHD_TETCF/253-494', 35: 'B7ZQ13_XENLA/255-493', 36: 'ACHD_BOVIN/252-488', 37: 'ACHD_CHICK/252-485', 38: 'ACHG_CHICK/249-491', 39: 'ACHG_BOVIN/248-494', 40: 'ACHG_XENLA/242-486', 41: 'ACHE_BOVIN/247-474', 42: 'ACHG_TETCF/243-484', 43: 'ACHB_TETCF/248-479', 44: 'ACHB_BOVIN/253-491', 45: 'ACH3_DROME/243-499', 46: 'ACHB2_CHICK/234-467', 47: 'ACHB4_CHICK/219-456', 48: 'ACHB4_RAT/238-481', 49: 'ACHB2_CARAU/211-439'}\n"
     ]
    },
    {
     "data": {
      "text/plain": [
       "1"
      ]
     },
     "execution_count": 21,
     "metadata": {},
     "output_type": "execute_result"
    }
   ],
   "source": [
    "from Bio import AlignIO\n",
    "alignment = AlignIO.read(\"SEED.ann\", \"stockholm\")\n",
    "name_mapping = {}\n",
    "for i, record in enumerate(alignment):\n",
    "    name_mapping[i] = record.id\n",
    "    record.id = \"seq%i\" % i\n",
    "print(name_mapping)\n",
    "\n",
    "AlignIO.write([alignment], \"SEED.phy\", \"phylip\")"
   ]
  },
  {
   "cell_type": "code",
   "execution_count": 22,
   "id": "67df8a94-5660-4491-a62d-5be3ee1323a2",
   "metadata": {},
   "outputs": [
    {
     "name": "stdout",
     "output_type": "stream",
     "text": [
      "Number of rows: 50\n"
     ]
    }
   ],
   "source": [
    "from Bio import AlignIO\n",
    "alignment = AlignIO.read(\"SEED.ann\", \"stockholm\")\n",
    "print(\"Number of rows: %i\" % len(alignment))"
   ]
  },
  {
   "cell_type": "code",
   "execution_count": 23,
   "id": "04e82c02-36a6-49c9-b823-4f5ebc5f335a",
   "metadata": {},
   "outputs": [
    {
     "name": "stdout",
     "output_type": "stream",
     "text": [
      "LIIPCLLISCLTVLVFYLPSEC-GEKITLCISVLLSLTVFLLLITEIIP-STSLVIPLIGEYLLFTMIFVTLSIVITVFVLNVHH--RSPST-HNMPNWVRVALLGRVPRWLMMNRPLPPMELHGSPDLKLS---------------------------------------------------------------PSYHWLETNMDAGEREETEEEE-----------------EEEDENICVCAG---------------------------------------------------------------LPDSSMGVLYGHGGLHLRAMEPETKTPSQASE---------------------ILLSP--QIQKALEGVHYIA------DRLRSEDADSSVKEDWKYVAMVVDRIFLWLFIIVCFLGTIGLF - ACHA2_RAT/249-502\n",
      "LIIPCLLISCLTVLVFYLPSDC-GEKITLCISVLLSLTVFLLLITEIIP-STSLVIPLIGEYLLFTMIFVTLSIIITVFVLNVHH--RSPST-HTMPHWVRSFFLGFIPRWLFMKRPPLLLPAEGTT----------------------------------GQYDPP----------------------------GTRLSTSRCWLETDVDDKWEEE-----------------EEEEEEEEEEEE-------------------------------------------------E-------------EKAYPSRVPSGGSQGTQCHYSCERQAGKASGGPAPQVPLKGEEVGSDQG----LTLSP--SILRALEGVQYIA------DHLRAEDADFSVKEDWKYVAMVIDRIFLWMFIIVCLLGTVGLF - ACHA2_CHICK/247-519\n",
      "LIIPCLLISCLTVLVFYLPSEC-GEKITLCISVLLSLTVFLLLITEIIP-STSLVIPLIGEYLLFTMIFVTLSIIITVFVLNVHH--RSPRT-HTMPDWVRRVFLDIVPRLLFMKRPSTVKDNCKKLIESMHKLTNSPRLWSETDMEPNFTTSSSPSPQSNEPSPTS----------------------------SFCAHLEEPAKPMCKSPSGQYSMLHP-------------EPPQVTCSSPKPSCHPLSDTQTTSISKGRSLSVQQMYSPNKTEEGSIRCRSRSIQYCYLQEDSSQTNGHSSASPASQRCHLNEEQPQHKPHQCKCKCRKGEAAGTPTQGSKSHSNKGEHL--------VLMSP--ALKLAVEGVHYIA------DHLRAEDADFSVKEDWKYVAMVIDRIFLWMFIIVCLLGTVGLF - ACHA4_CHICK/245-613\n",
      "LIIPCLLISCLTVLVFYLPSEC-GEKVTLCISVLLSLTVFLLLITEIIPSPTSLVIPLIGEYLLFTMIFVTLSIVITVFVLNVHH--RSPRT-HTMPAWVRRVFLDIVPRLLFMKRPSVVKDNCRRLIESMHKMANAPRFWPEPVGEPGILSDICNQGLSPAPTFCNPTDTAVETQPTCRSPPLEVPDLKTSEVEKASPCPSPGSCPPPKSSSGAPMLIKARSLSVQHVPSSQEAAEDGIRCRSRSIQYCVSQDG----------------------------------------AASLADSKPTSSPTSLKARPSQLPVSDQASPCKCTCKEPSPVSPVTVLKAGGTKAPPQH--------LPLSP--ALTRAVEGVQYIA------DHLKAEDTDFSVKEDWKYVAMVIDRIFLWMFIIVCLLGTVGLF - ACHA4_RAT/252-622\n",
      "LIIPCLLISFLTILVFYLPSDC-GEKVTLCISVLLSLTVFLLVITETIP-STSLVIPLIGEYLLFTMIFVTLSIVITVFVLNVHY--RTPMT-HTMPSWVRTVFLRALPRVMLMRRPIDLSESSGKGG---------------------------------GEIAGS----------------------------SGTGGGRGAEGKKMKSSASQQG-----------------AMNSLEFGEGKA-------------------------------------------------A-------------LEGKKGGCPCHPIKEAIEGDCGKVSRQLTPQAINTVVTF--------------SVVSP--EIKQAIESVKYIA------ENMRSRNKAKEVEDDWKYVAMVIDRIFLWVFVLVCVLGTLGLF - ACHA3_CARAU/240-503\n",
      "MIIPCLLISFLTVLVFYLPSDC-GEKVTLCISVLLSLTVFLLVITETIP-STSLVIPLIGEYLLFTMIFVTLSIVITVFVLNVHY--RTPKT-HTMPVWVRTIFLNLLPRIMFMTRPTSDEENNQK-------------------------------------------------------------------------------------PKPFYT-----------------SEFSNLNCFNSS-------------------------------------------------E-------------IKCCKDGFVCQDMACSCCQYQRMKFSDFSGNLTRSSSSESVDPLFSF------SVLSP--EMRDAIESVKYIA------ENMKMQNEAKEIQDDWKYVAMVIDRIFLWVFILVCILGTAGLF - ACHA3_CHICK/239-486\n",
      "VVIPCLLFSFLTGLVFYLPTDS-GEKITLSVSVLLSLVVFLLVIVELIP-STSSAVPLIGKYMLFTMVFVIASIVITVIVINTHH--RSPST-HIMPQWLKKIFIETIPRVMFFS----------------------------------------------------------------------------------------------------TM-----------------KRPAQDQHKKKI-------------------------------------------------F-------------TEDIDISDISGKLGPTAVKYQSP------------------------------ILKNP--DVKSAIEGAKYVA------ETMKSDQESTKASEEWKFVAMVLDHLLLAVFMIVCIIGTLAIF - ACHAA_XENLA/238-446\n",
      "LIIPCLGLSFLTVLVFYLPSDE-GEKLSLSTSVLVSLTVFLLVIEEIIP-SSSKVIPLIGEYLLFIMIFVTLSIIVTVFVINVHH--RSSSTYHPMAPWVKRLFLQRLPRWLCMKDP----------------------------------------------------------------------------------------------------------------------MDRFSFPDGKE---------------------------------------------------------------SDTAVRGKVSGKRKQTPASDGE-------------------------------RVLVA--FLEKASESIRYIS------RHVKKEHFISQVVQDWKFVAQVLDRIFLWLFLIASVLGSILIF - ACHB3_RAT/246-452\n",
      "LIIPCLGLSFLTVLVFYLPSDE-GEKVSLSTSVLVSLTVFLLVIEEIIP-SSSKVIPLIGEYLLFIMIFVTLSIIVTIFVINVHH--RSSATYHPMSPWVRSLFLQRLPHLLCMRG----------------------------------------------------------------------------------------------------------------------NTDRYHYPELEP-------------------------------------------------H-------------SPDLKPRNKKGPPGPEGEG----------------------------------QALIN--LLEQATNSVRYIS------RHIKKEHFIREVVQDWKFVAQVLDRIFLWTFLTVSVLGTILIF - ACHN2_CARAU/242-446\n",
      "LIIPCVGISYLSVLVFYLPADS-GEKIALCISILLSQTMFFLLISEIIP-STSLALPLLGKYLLFTMLLVGLSVVITIIILNIHY--RKPST-HKMRPWIRSFFIKRLPKLLLMRVPKDLLRDLAAN----------------------------------KINYGL----------------------------KFSKTKFGQALMDEMQMNSGGS-----------------SPDSLRRMQGRV-------------------------------------------------GAGGCNGMHVTTATNRFSGLVGALGGGLSTLSGYNGLPSVLSGLDDSLSDVAA--------------RKKYPF-ELEKAIHNVMFIQ------HHMQRQDEFNAEDQDWGFVAMVMDRLFLWLFMIASLVGTFVIL - B4HH26_DROSE/268-544\n",
      "LIVPCVGISYLSVLVFYLPADS-GEKIALCISILLSQTMFFLLISEIIP-STSLALPLLGKYLLFTMVLVGLSVVITIMVLNVHY--RKPST-HKMAPWVRKVFIRRLPKLLLMRVPEQLLADLASK----------------------------------RLLRHA----------------------------HNSKLSAAAAAAVAAAASSSAA-----------------SSPDSLRHHHLH-------------------------------------------------Q-------------HQHQHHLQLHHLQRPGGCNGLHSATNRFGGSAGAFGGLPSVVGLDGSLSDVATRKKYP-FELEKAIHNVLFIQ------NHMQRQDEFDAEDQDWGFVAMVLDRLFLWIFTIASIVGTFAIL - ACH1_SCHGR/249-526\n",
      "LIVPCVALTFLTVLVFYLPSDS-GEKVTLCISILVSLTVFFLLLAEIIP-PTSLAVPLLGKYLLFTMILVSLSVWTTVCVLNIHF--RSPST-HNMSPLVRKLFLHFMPKLMMMRRTQYTLPDYDD-------------------------------------------------------------------------------------STPSNG-----------------YTNEIDVRDSIS-------------------------------------------------D-------------FPSEFKDSQDGAYDNGMQNSVDSDNVIP-------------------------RNLTP--EVLQALRAVRFIA------QHIKDADKDNEIVEDWKFVSMVLDRFFLWLFTLSCVFGTLAII - B4QT71_DROSI/252-480\n",
      "LIIPCVGISFLSVLVFYLPSDS-GEKISLCISILLSLTVFFLLLAEIIP-PTSLTVPLLGKYLLFTMMLVTLSVVVTIAVLNVNF--RSPVT-HRMAPWVQRLFIQILPKLLCIERPKKEEPEEDQPPEVLTDVYHLPPDVD-----------------------------------------------------KFVNYDSKRFSGDYGIPALPAS-----------------HRFDLAAAGGIS-------------------------------------------------AHCFAEPPLPSSLPLPGADDDLFSPSGLNGDISPGCCPAAAAAAAADLSPTFE--------------KPYAR--EMEKTIEGSRFIA------QHVKNKDKFESVEEDWKYVAMVLDRMFLWIFAIACVVGTALII - ACH1_DROME/247-531\n",
      "LLIPCVLISALALLVFLLPADS-GEKISLGITVLLSLTVFMLLVAEIMP-ATSDSVPLIAQYFASTMIIVGLSVVVTVIVLQYHH--HDPDG-GKMPKWTRVILLNWCAWFLRMKRPGEDKVRPAC-----------------------------------QHKQRR----------------------------CSLSSMEMNTVS----GQQCSN-----------------GNMLYIGFRGLD-------------------------------------------------G-------------VHCTPTTDSGVICGRMTCSPTE--EENLLHSGHP-------------------SEGDP--DLAKILEEVRYIA------NRFRDQDEEEAICNEWKFAASVVDRLCLMAFSVFTIICTIGIL - ACHA7_CHICK/237-487\n",
      "LLLPSIFLMVVDIVGFCLPPDS-GERVSFKITLLLGYSVFLIIVSDTLP--ATIGTPLIGVYFVVCMALLVISLAETIFIVRLVH--KQDLQ-RPVPDWLRHLVLDRIAWILCLGEQPMAHRPPA------------------------------------------------------------------------------------------TF-----------------QANKTDDCSGSD-------------------------------------------------L-------------LPAMGNHCSHVGGPQDLEKTPR--GRGSPLPPP--------------------REASL--AVRGLLQELSSIR------HFLEKRDEMREVARDWLRVGYVLDRLLFRIYLLAVLAYSITLV - 5HT3A_MOUSE/253-478\n",
      "IYTPCIMTVILSQVSFWINKESVPARTVFGITTVLTMTTLSISARHSLP-KVSYATAMDW-FIAVCFAFVFSALIEFAAVNYFTN-LQSQKA-------ERQAQTAATPPVAK--------------------------------------------------------------------------------------------------SKASES-----------------LQAEIVVHSDSK-------------------------------------------------Y-----------------------HLKKRISSLTLP-------------------------------IVPSS--EASKALSRT----------PILKSTPVSPPLLLPATGGTSKIDQYSRILFPVAFAGFNLVYW - GBRA6_MOUSE/247-437\n",
      "TYIPCIMTVILSQVSFWINKESVPARTVFGITTVLTMTTLSISARHSLP-KVSYATAMDW-FIAVCFAFVFSALIEFAAVNYFTNVQMEKAK-RKTSKAPQEISAAPVLREKHPETPLQNTNANLSMRKRANALV--------------------------HSESDV----------------------------GSRTDVGNHSSKSSTVVQGSSE-----------------ATPQSYLASSPN-------------------------------------------------P-------------FSRANAAETISAARAIPSALPSTPSRTGYVPRQVPVGSASTQ-----------HVFGS--RLQRIKTTVNSIGT-----SGKLSATTTPSAPPPSGSGTSKIDKYARILFPVTFGAFNMVYW - GBRA4_BOVIN/263-539\n",
      "TYIPCILTVVLSWVSFWINKDAVPARTSLGITTVLTMTTLSTIARKSLP-KVSYVTAMDL-FVSVCFIFVFAALMEYGTLHYFTS--------NNKGKTTRDRKLK--------------------------------------------------------------------------------------------------------------------------------SKTSVSPGLHAG---------------------------------------------------------------STLIPMNNISMPQGEDDYGYQCLEGKDC-------------------------ATFFC--CFEDCRT------------GSWREGRIHIRIAK--------IDSYSRIFFPTAFALFNLVYW - GBRG1_RAT/277-459\n",
      "TYIPCTLIVVLSWVSFWINKDAVPARTSLGITTVLTMTTLSTIARKSLP-KVSYVTAMDL-FVSVCFIFVFSALVEYGTLHYFVS-NRKPS--KDKDKKKKNPLLRMFS-----------------------------------------------------------------------------------------------------------------------------FKAPTIDIRPRS---------------------------------------------------------------ATIQMNNATHLQERDEEYGYECLDGKDC-------------------------ASFFC--CFEDCRT------------GAWRHGRIHIRIAK--------MDSYARIFFPTAFCLFNLVYW - GBRG2_BOVIN/279-469\n",
      "TYIPCILTVVLSWVSFWIKKDATPARTTLGITTVLTMTTLSTIARKSLP-RVSYVTAMDL-FVTVCFLFVFAALMEYATLNYYSS-CRKPTIRKKKTSLLHPDSTRWIPDRISLQAP---------------------------------------------------------------------------------------------------------------------SNYSLLDMRPPP-------------------------------------------------P-------------VMITLNNSMYWQEFEDTCVYECLDGKDC-------------------------QSFFC--CYEECKS------------GSWRRGRIHIDVSE--------LDSYSRVFFPTSFLLFNLVYW - GBRG3_MOUSE/260-461\n",
      "TYIPCILTVVLSWVSFWIKRDSTPARTSLGITTVLTMTTLSTISRKHLP-RVSYITAMDL-FVSVCFIFVFAALMEYATLNYLVG-NKKPLEHSSRKARLPPAGAQVMPSFTAIN-----------------------------------------------------------------------------------------------------------------------ININNIMHWPPE------------------------------------------------------------------------IEEDEDDDPGSPCLEGKEC-------------------------ERFFC--CIEDCQT------------GMWREGRVRIHISR--------LDSYSRVFFPTAFLLFNIVYW - GBRG4_CHICK/262-451\n",
      "TYFPATLMVMLSWVSFWIDRRAVPARVSLGITTVLTMTTIITGVNASMP-RVSYVKAVDI-YLWVSFVFVFLSVLEYAAVNYL----------TTVQERKERKLREKFPCMCGM------------------------------------------------------------------------------------------------------------------------LHSKTMMLDGS----------------------------------------------------------------YSESEANSLAGYPRSHILTEEERQDKIVVH-----------------------LGLSG--EANAARK------------KGLLKGQTGFRIFQN----THAIDKYSRLIFPASYIFFNLIYW - GBRR2_HUMAN/268-461\n",
      "TYFPATLMVMLSWVSFWIDRRAVPARVPLGITTVLTMSTIITGVNASMP-RVSYIKAVDI-YLWVSFVFVFLSVLEYAAVNYL----------TTVQERKEQKLREKLPCTSGLPPP---------------------------------------------------------------------------------------------------------------------RTAMLDGNYSDG-------------------------------------------------E-------------VNDLDNYMPENGEKPDRMMVQLTLAS---------------------------ERSSP---------------------QRKSQRSSYVSMRID----THAIDKYSRIIFPAAYILFNLIYW - GBRR1_HUMAN/288-475\n",
      "TYLPSILIVMLSWVSFWINHEATSARVALGITTVLTMTTISNGVRSSLP-RISYVKAIDI-YLVMCFVFVFAALLEYAAVNYTYWGARAKRK-AKRLRERATSVRKRVDDGDQMNNTNMDTVELKEVHMVPTS------------------------------------------------------------------------------VGVTNS-----------------QSFNLDLDDGSG-------------------------------------------------D---------------DTGFRVVPPIPRSFTHSHATTHGYIPTNVVRRRSS----------------SHVPP--RRRRLL-------------SHFRQKAKSIKVKIPRVQDVNTIDKYARLMFPLLFIIFNTSYW - GBRB_LYMST/256-493\n",
      "TYMPSILITILSWVSFWINYDASAARVALGITTVLTMTTINTHLRETLP-KIPYVKAIDM-YLMGCFVFVFLALLEYAFVNYIFF-GKGPQR-QKKLAEKSAKANNDRSRFEGSRVDTH-------------------------------------------------------------------------------------------------------------------GNILLTSLEIHN-------------------------------------------------E-------------VASNEVTTSVTDARNSTISFDNSGIQYRKQSSH--------------------RESLG--RRSSDRTGSHSKR------GHLRRRSSQLKIKIPDLTDVNAIDRWSRMVFPFTFSLFNLIYW - GBRB3_CHICK/250-471\n",
      "TYMPSILITILSWVSFWINYDASAARVALGVTTVLTMTTINTHLRETLP-KIPYVKAIDV-YLMGCFVFVFLALLEYAFVNYIFF-GRGPRQ-QKKQSERISKANNERHRYEEKRVR----------------------------------------------------------------------------------------------EQVDPY-----------------GNILLSTLDMNN-------------------------------------------------E-------------LLATDMMSSVGDSRNSVMSFEGSGIQFRKPLASRDG-----------------FGHHP--TLDRHVPLTHHAAARNRANCRLRRRSSKLKLKIPDLTDVSTIDKWSRIIFPITFGFFNLVYW - GBRB4_CHICK/249-483\n",
      "TYMPSTLITILSWVSFWINYDASAARVALGITTVLTMTTISTHLRETLP-KIPYVKAIDI-YLMGCFVFVFLALLEYAFVNYIFF-GKGP---QKKGAGKQDQSANEKNKLEMNKVQVDAH-----------------------------------------------------------------------------------------------------------------GNILLSTLEIRN-------------------------------------------------E-------------TSGSEVLTGVGDPKTTMYSYDSASIQYRKPMSSR-------------------EGYGR--ALDRHGAHSK---------GRIRRRASQLKVKIPDLTDVNSIDKWSRMFFPITFSLFNVVYW - GBRB1_BOVIN/250-469\n",
      "VYAPTLLIVVLSWLSFWINPDASAARVPLGIFSVLSLASECTTLAAELP-KVSYVKALDV-WLIACLLFGFASLVEYAVVQVMLN--------NPKRVEAEKARIAKAEQADGKGGNAAKK------------------------------------------------------------------------------------------NTVNGT-----------------GTPVHISTLQVG-------------------------------------------------E-------------TRCKKVCTSKSDLRSNDFSIVGSLPRDFE------------------------LSNYD--CYGKPIEVNNGLG------KPQAKNKKPPPAKPVIPTAAKRIDLYARALFPFCFLFFNVIYW - GLRB_RAT/273-492\n",
      "MYIPSLLIVILSWISFWINMDAAPARVGLGITTVLTMTTQSSGSRASLP-KVSYVKAIDI-WMAVCLLFVFSALLEYAAVNFVSR-----QH-KELLRFRRKRRHHKSPMLNLFQED----------------------------------------------------------------------------------------------EAGEGR-----------------FNFSAYGMGPAC-------------------------------------------------L-------------QAKDGISVKGANNSNTTNPPPA-------------------------------PSKSP------------------------------EEMRKLFIQRAKKIDKISRIGFPMAFLIFNMFYW - G3REP2_GORGO/255-443\n",
      "IYIPSGLIVIISWVSFWLNRNATPARVALGVTTVLTMTTLMSSTNAALP-KISYVKSIDV-YLGTCFVMVFASLLEYATVGYMAK--RIQMR-KQRFMAIQKIAEQKKQQLDGANQQQANPNPNANVGGPGGVGVGPGGPGGPGGGVNVGVGMGMGPEHGHGHGHHA----------------------------HSHGHPHAPKQTVSNRPIGFSNIQQNVGTRGCSIVGPLFQEVRFKVHDPKA-------------------------------------------------H-------------SKGGTLENTVNGGRGGPQSHGPGPGQGGGPPGGGGGGG---------------GGGGP--PEGGGDPEAAVPA------HLLHPGKVKKDINKLLGITPSDIDKYSRIVFPVCFVCFNLMYW - GBRB_DROME/274-586\n",
      "SYMPSVLLVAMSWVSFWISQAAVPARVSLGITTVLTMTTLMVSARSSLP-RASAIKALDV-YFWICYVFVFAALVEYAFAHFNAD-YRKKRK-AKVKVTKPRAEMDVRNAIVLFSL-----------------------------------------------------------------------------------------------SAAGVS-----------------QELAISRRQGR----------------------------------------------------------------VPGNLMGSYRSVEVEAKKEGGS-------------------------------RPGGP---------------------GGIRSRLKPIDADT--------IDIYARAVFPAAFAAVNIIYW - GBRD_MOUSE/254-444\n",
      "TYLPCIMTVILSQVSFWLNRESVPARTVFGVTTVLTMTTLSISARNSLP-KVAYATAMDW-FMAVCYAFVFSALIEFATVNYFT---------KRSWAWEGK----KVPEALEMKKKTPAVP-----------------------------------------------------------------------------------------TKKTST-----------------TFNIVGTTYPIN-------------------------------------------------L-------------AKDTEFSAISKGAAPSTSSTPT-------------------------------IIASP---KTTCVQ------------DIPTETKTYNSVSK--------VDKISRIIFPVLFAIFNLVYW - GBRA3_BOVIN/282-475\n",
      "TYLPCIMTVILSQVSFWLNRESVPARTVFGVTTVLTMTTLSISARNSLP-KVAYATAMDW-FIAVCYAFVFSALIEFATVNYFT---------KRGYAWDGKSVVPEKPK----------------------------------------------------------------------------------------------------------------------------KVKDPLIKKNNT-------------------------------------------------Y-------------APTATSYTPNLARGDPGLATIAKS-----------------------------ATIEP---------------------KEVKPETKPPEPKKTFNSVSK-IDRLSRIAFPLLFGIFNLVYW - A0A452F9D8_CAPHI/257-439\n",
      "TYLPCIMTVILSQVSFWLNRESVPARTVFGVTTVLTMTTLSISARNSLP-KVAYATAMDW-FIAVCYAFVFSALIEFATVNYFT---------KRGWAWDGKKALEAAKIK---------------------------------------------------------------------------------------------------------------------------KKREVILNKSTN-------------------------------------------------A-------------FTTGKMSHPPNIPKEQTPAGTS-------------------------------NTTSV--SVKPSEE------------KTSESKKTYNSISK--------IDKMSRIVFPVLFGTFNLVYW - A0A2I3GX20_NOMLE/264-445\n",
      "FITPCVLISFLASLAFYLPAES-GEKMSTAISVLLAQAVFLLLTSQRLP-ETALAVPLIGKYLMFIMSLVTGVIVNCGIVLNFHF--RTPST-HVLSTRVKQIFLEKLPRILHMSRADESEQPDWQN----------------------------------DLKLRR----------------------------SS--------------SVGYIS-----------------KAQEYFNIKSRS-------------------------------------------------E-------------LMFEKQSERHGLVPRVTPRIGFGNNNENIAAS---------------------DQLHD--EIKSGIDSTNYIV------KQIKEKNAYDEEVGNWNLVGQTIDRLSMFIITPVMVLGTIFIF - ACHD_TETCF/253-494\n",
      "ILAPCVLIALMANLVFYLPADS-GEKMTLAISVLLAQSVFLLLISQRLP-ETSFAIPLISKYLMFIMVLVTIVVVSCVIVLNLHF--RTPST-HAISERMKEIFLNKLPRILHMSQPAEPEPEPWSGVLLRRSS-----------------------------------------------------------------------------SVGYIV-----------------KAEEYYSVKSRS-------------------------------------------------E-------------LMFEKQSERHGLTSRATPARVNPLNANNSQ-----------------------DQLYG--EIKPAIDGANFIV------KHIRDKNDYNEEKDNWYRIARTVDRLCLFLVTPVMIIGTLWIF - B7ZQ13_XENLA/255-493\n",
      "ILVPCVLISFMINLVFYLPADC-GEKTSMAISVLLAQSVFLLLISKRLP-ATSMAIPLIGKFLLFGMVLVTMVVVICVIVLNIHF--RTPST-HVLSEPVKKLFLETLPEILHMSRPAEDGPSPGTLIRRSS-------------------------------------------------------------------------------SLGYIS-----------------KAEEYFSLKSRS-------------------------------------------------D-------------LMFEKQSERHGLARRLTTARRPPAGSEQAQ-----------------------QELFS--ELKPAVDGANFIV------NHMKDQNNYNEEKDCWNRVARTVDRLCLFVVTPIMVVGTAWIF - ACHD_BOVIN/252-488\n",
      "IVTPCVLIAFMAILVFYLPADS-GEKMTLVISVLLAQSVFLLLVSQRLP-ATSHAIPLIGKYLLFIMLLVTAVVVICVVVLNFHF--RTPST-HVMSDWVRGVFLEILPRLLHMSHPAESPAGAPCIRRCS--------------------------------------------------------------------------------SAGYIA-----------------KAEEYYSVKSRS-------------------------------------------------E-------------LMFEKQSERHGLASRVTPARFAPAATSE-------------------------EQLYD--HLKPTLDEANFIV------KHMREKNSYNEEKDNWNRVARTLDRLCLFLITPMLVVGTLWIF - ACHD_CHICK/252-485\n",
      "IIVPCVLISSMAVLVYFLPAKAGGQKCTVSINVLLAQTVFLFLIAQKVP-ETSQAVPLIGKYLTFLMVVTVVIVVNAVIVLNVSL--RTPNT-HSMSQRVRQVWLHLLPRYLGMHMPEEAPGPPQATRRRS--------------------------------------------------------------------------------SLGLMV-----------------KADEYMLWKART-------------------------------------------------E-------------LLFEKQKERDGLMKTVLEKIGRGLESNCAQDFCQSL-----------------EEASP--EIRACVEACNHIA------NATREQNDFSSENEEWILVGRVIDRVCFFIMASLFVCGTIGIF - ACHG_CHICK/249-491\n",
      "IIAPCVLISSVAILIYFLPAKAGGQKCTVAINVLLAQTVFLFLVAKKVP-ETSQAVPLISKYLTFLLVVTILIVVNAVVVLNVSL--RSPHT-HSMARGVRKVFLRLLPQLLRMHVRPLAPVAVQ------------------------------------DAHPRL----------------------------QN-------GSS----SGWPIT-----------------AGEEVALCLPRS-------------------------------------------------E-------------LLF-RQRQRNGLVRAALEKLEK--GPESGQSPEWCGSL---------------KQAAP--AIQACVEACNLIA------RARHQQTHFDSGNKEWFLVGRVLDRVCFLAMLSLFVCGTAGIF - ACHG_BOVIN/248-494\n",
      "IIVPCVLISFVSILVYFLPAKAGGQKCTVSINILLAQTVFLFLVAQKIP-ETSTSVPLIVKYLTFLMVVTITIVANAVIVLNISL--RTPNT-HSMSSTVRELCLRTVPRLLRMHLRPTDAAPPLAPLMRRSS------------------------------------------------------------------------------SLGLMM-----------------KADEYMLRKPRS-------------------------------------------------Q-------------LMFEKQKERDGLMKVVLDKIGRGMENNTSDDLVHSL-----------------NHAAP--EIRTCVEACCHIA------SATREKNDFKSENEEWILMGRVIDRVCFLVMCFVFFLGTIGTF - ACHG_XENLA/242-486\n",
      "IIVPCVLISGLVLLAYFLPAQAGGQKCTVSINVLLAQTVFLFLIAQKTP-ETSLSVPLLGRYLIFVMVVATLIVMNCVIVLNVSL--RTPTT-HAMSPRLRYVLLELLPQLLGSGAPPEIPRA--------------------------------------ASPPRR----------------------------AS--------------SLGLLL-----------------RAEELILKKPRS-------------------------------------------------E-------------LVFEQQRHRHGTWTATLCQNLG--------------------------------AAAP--EIRCCVDAVNFVA------SSTRDQEATGEEVSDWVRMGKALDSICFWAALVLFLVGSSLIF - ACHE_BOVIN/247-474\n",
      "IIAPCVLISSLVVLVYFLPAQAGGQKCTLSISVLLAQTIFLFLIAQKVP-ETSLNVPLIGKYLIFVMFVSMLIVMNCVIVLNVSL--RTPNT-HSLSEKIKHLFLGFLPKYLGMQLEPSEETPEKPQPRRRS-------------------------------------------------------------------------------SFGIMI-----------------KAEEYILKKPRS-------------------------------------------------E-------------LMFEEQKDRHGLKRVNKMTSDIDIGTTVDLYKDL-------------------ANFAP--EIKSCVEACNFIA------KSTKEQNDSGSENENWVLIGKVIDKACFWIALLLFSIGTLAIF - ACHG_TETCF/243-484\n",
      "TIIPCILISILAILVFYLPPDA-GEKMSLSISALLAVTVFLLLLADKVP-ETSLSVPIIIRYLMFIMILVAFSVILSVVVLNLHH--RSPNT-HTMPNWIRQIFIETLPPFLWIQRPVTTPSPDSK-------------------------------------------------------------------------------------PTIISR-----------------ANDEYFIRKPAG-------------------------------------------------D-------------FVCPVDNARVAVQPERLFSEMKWHLNGLTQP----------------------VTLPQ--DLKEAVEAIKYIA------EQLESASEFDDLKKDWQYVAMVADRLFLYVFFVICSIGTFSIF - ACHB_TETCF/248-479\n",
      "VIAPCILITLLAIFVFYLPPDA-GEKMGLSIFALLTLTVFLLLLADKVP-ETSLSVPIIIKYLMFTMVLVTFSVILSVVVLNLHH--RSPHT-HQMPLWVRQIFIHKLPLYLGLKRPKPERDQMQEP---------------------------------------------------------------------------PSIAPRDSPGSGWGR-----------------GTDEYFIRKPPN-------------------------------------------------D-------------FLFPKPNRFQPELSAPDLRRFIDGPNRA-------------------------VGLPP--ELREVVSSISYIA------RQLQEQEDHDVLKEDWQFVAMVVDRLFLWTFIIFTSVGTLVIF - ACHB_BOVIN/253-491\n",
      "LILPTVLISFLCVLVFYLPAEA-GEKVTLGISILLSLVVFLLLVSKILP-PTSLVLPLIAKYLLFTFIMNTVSILVTVIIINWNF--RGPRT-HRMPMYIRSIFLHYLPAFLFMKRPRKTRLRWMMEMP--------------------------------GMSMPA----------------------------HPHPSYGSPAELPKHISAIGGK-----------------QSKMEVMELSDL-------------------------------------------------H-------------HPNCKINRKVNSGGELGLGDGCRRESESSDS----------------------ILLSP--EASKATEAVEFIA------EHLRNEDLYIQTREDWKYVAMVIDRLQLYIFFIVTTAGTVGIL - ACH3_DROME/243-499\n",
      "LIIPCILITSLAILVFYLPSDC-GEKMTLCISVLLALTVFLLLISKIVP-PTSLDVPLVGKYLMFTMVLVTFSIVTSVCVLNVHH--RSPTT-HTMPPWVRTLFLRKLPALLFMKQPQQNCARQRLR------------------------------------------------------------------------------------QRRQTQ-----------------ERAAAATLFLRA-------------------------------------------------G-------------ARACACYANPGAAKAEGLNGYRERQGQGPDPP---------------------APCGC--GLEEAVEGVRFIA------DHMRSEDDDQSVSEDWKYVAMVIDRLFLWIFVFVCVFGTVGMF - ACHB2_CHICK/234-467\n",
      "LIIPCVLITSLAILVFYLPSDC-GEKMTLCISVLLALTVFLLLISKIVP-PTSLDVPLIGKYLMFTMVLVTFSIVTSVCVLNVHH--RSPST-HTMPPWVKLVFLERLPAYLFMKRPENNSPRQK--------------------------------------------------------------------------------------PANCKK-----------------TRAENLCMDPAD-------------------------------------------------F-------------YKNSTYFVNTASAKKYDMKITDTLDNVSSHQDFRLRTG---------------TKFSP--EVQEAIDGVSFIA------EHMKSDDNDQSVIEDWKYVAMVVDRLFLWIFVLVCVLGTVGLF - ACHB4_CHICK/219-456\n",
      "LIIPCVLITSLAILVFYLPSDC-GEKMTLCISVLLALTFFLLLISKIVP-PTSLDIPLIGKYLLFTMVLVTFSIVTTVCVLNVHH--RSPST-HTMASWVKECFLHKLPTFLFMKRPGLEVSLVRVPHPSQLH------------------------------------------------------------------------------LATADT-----------------AATSALGPTSPS-------------------------------------------------N--------------LYGSSMYFVNPVPAAPKSAVSSHTAGLPRDARLRSS----------------GRFRE--DLQEALEGVSFIA------QHLESDDRDQSVIEDWKFVAMVVDRLFLWVFVFVCILGTMGLF - ACHB4_RAT/238-481\n",
      "LIIPCVLITSLAILVFYLPSDC-GEKVTLCMSVLLALTVFLLLISKIVP-PTSLAVPLIGKYLMFTMVLVTFSIVTSVCVLNVHH--RSPST-HYMPEWVKCVFLHKLPAFLLMRRPGRSNVRER--------------------------------------------------------------------------------------FRRKHQ-----------------RKSFSSHQDGDS-------------------------------------------------F-------------FLTDDPGRVCGAWRVGDLPEGSEFRQRVK------------------------VRHDQ--DVDEAIDGVRFIA------EHMKIEDDDEGIIEDWKYVAMVIDRLFLWIFILVCVVGTLGLF - ACHB2_CARAU/211-439\n"
     ]
    }
   ],
   "source": [
    "for record in alignment:\n",
    "    print(\"%s - %s\" % (record.seq, record.id))"
   ]
  },
  {
   "cell_type": "code",
   "execution_count": 24,
   "id": "db4b7a41-4f42-4c82-840c-162a42c1c661",
   "metadata": {},
   "outputs": [
    {
     "name": "stdout",
     "output_type": "stream",
     "text": [
      "Alignment with 50 rows and 431 columns\n",
      "LIIPCLLISCLTVLVFYLPSEC-GEKITLCISVLLSLTVFLLLI...GLF ACHA2_RAT/249-502\n",
      "LIIPCLLISCLTVLVFYLPSDC-GEKITLCISVLLSLTVFLLLI...GLF ACHA2_CHICK/247-519\n",
      "LIIPCLLISCLTVLVFYLPSEC-GEKITLCISVLLSLTVFLLLI...GLF ACHA4_CHICK/245-613\n",
      "LIIPCLLISCLTVLVFYLPSEC-GEKVTLCISVLLSLTVFLLLI...GLF ACHA4_RAT/252-622\n",
      "LIIPCLLISFLTILVFYLPSDC-GEKVTLCISVLLSLTVFLLVI...GLF ACHA3_CARAU/240-503\n",
      "MIIPCLLISFLTVLVFYLPSDC-GEKVTLCISVLLSLTVFLLVI...GLF ACHA3_CHICK/239-486\n",
      "VVIPCLLFSFLTGLVFYLPTDS-GEKITLSVSVLLSLVVFLLVI...AIF ACHAA_XENLA/238-446\n",
      "LIIPCLGLSFLTVLVFYLPSDE-GEKLSLSTSVLVSLTVFLLVI...LIF ACHB3_RAT/246-452\n",
      "LIIPCLGLSFLTVLVFYLPSDE-GEKVSLSTSVLVSLTVFLLVI...LIF ACHN2_CARAU/242-446\n",
      "LIIPCVGISYLSVLVFYLPADS-GEKIALCISILLSQTMFFLLI...VIL B4HH26_DROSE/268-544\n",
      "LIVPCVGISYLSVLVFYLPADS-GEKIALCISILLSQTMFFLLI...AIL ACH1_SCHGR/249-526\n",
      "LIVPCVALTFLTVLVFYLPSDS-GEKVTLCISILVSLTVFFLLL...AII B4QT71_DROSI/252-480\n",
      "LIIPCVGISFLSVLVFYLPSDS-GEKISLCISILLSLTVFFLLL...LII ACH1_DROME/247-531\n",
      "LLIPCVLISALALLVFLLPADS-GEKISLGITVLLSLTVFMLLV...GIL ACHA7_CHICK/237-487\n",
      "LLLPSIFLMVVDIVGFCLPPDS-GERVSFKITLLLGYSVFLIIV...TLV 5HT3A_MOUSE/253-478\n",
      "IYTPCIMTVILSQVSFWINKESVPARTVFGITTVLTMTTLSISA...VYW GBRA6_MOUSE/247-437\n",
      "TYIPCIMTVILSQVSFWINKESVPARTVFGITTVLTMTTLSISA...VYW GBRA4_BOVIN/263-539\n",
      "TYIPCILTVVLSWVSFWINKDAVPARTSLGITTVLTMTTLSTIA...VYW GBRG1_RAT/277-459\n",
      "...\n",
      "LIIPCVLITSLAILVFYLPSDC-GEKVTLCMSVLLALTVFLLLI...GLF ACHB2_CARAU/211-439\n"
     ]
    }
   ],
   "source": [
    "print(alignment)"
   ]
  },
  {
   "cell_type": "code",
   "execution_count": 25,
   "id": "29a8a93c-b630-48c0-b4d3-5bfe6c616fad",
   "metadata": {},
   "outputs": [
    {
     "name": "stdout",
     "output_type": "stream",
     "text": [
      "Alignment with 4 rows and 431 columns\n",
      "LIIPCLLISCLTVLVFYLPSEC-GEKVTLCISVLLSLTVFLLLI...GLF ACHA4_RAT/252-622\n",
      "LIIPCLLISFLTILVFYLPSDC-GEKVTLCISVLLSLTVFLLVI...GLF ACHA3_CARAU/240-503\n",
      "MIIPCLLISFLTVLVFYLPSDC-GEKVTLCISVLLSLTVFLLVI...GLF ACHA3_CHICK/239-486\n",
      "VVIPCLLFSFLTGLVFYLPTDS-GEKITLSVSVLLSLVVFLLVI...AIF ACHAA_XENLA/238-446\n"
     ]
    }
   ],
   "source": [
    "print(alignment[3:7])"
   ]
  },
  {
   "cell_type": "code",
   "execution_count": 26,
   "id": "81505b8b-a2e0-48dc-8d66-2d6e21cfd959",
   "metadata": {},
   "outputs": [
    {
     "name": "stdout",
     "output_type": "stream",
     "text": [
      "L\n"
     ]
    }
   ],
   "source": [
    "print(alignment[2, 6])"
   ]
  },
  {
   "cell_type": "code",
   "execution_count": 27,
   "id": "2d331bda-ea5a-40ad-933a-868da393d214",
   "metadata": {},
   "outputs": [
    {
     "name": "stdout",
     "output_type": "stream",
     "text": [
      "LLLLLLLGGGGAGLFMMLLLLLLLLLLLLLLMMMLLLLLLLLLLLLLLLL\n"
     ]
    }
   ],
   "source": [
    "print(alignment[:, 6])"
   ]
  },
  {
   "cell_type": "code",
   "execution_count": 28,
   "id": "557468fc-e0e1-4840-99e8-59a2ba9fdf36",
   "metadata": {},
   "outputs": [
    {
     "name": "stdout",
     "output_type": "stream",
     "text": [
      "Alignment with 3 rows and 6 columns\n",
      "LIIPCL ACHA4_RAT/252-622\n",
      "LIIPCL ACHA3_CARAU/240-503\n",
      "MIIPCL ACHA3_CHICK/239-486\n"
     ]
    }
   ],
   "source": [
    "print(alignment[3:6, :6])"
   ]
  },
  {
   "cell_type": "code",
   "execution_count": 29,
   "id": "b803bebf-0308-4cd5-a3c1-1d50c58484d1",
   "metadata": {},
   "outputs": [
    {
     "name": "stdout",
     "output_type": "stream",
     "text": [
      "Alignment with 50 rows and 6 columns\n",
      "LIIPCL ACHA2_RAT/249-502\n",
      "LIIPCL ACHA2_CHICK/247-519\n",
      "LIIPCL ACHA4_CHICK/245-613\n",
      "LIIPCL ACHA4_RAT/252-622\n",
      "LIIPCL ACHA3_CARAU/240-503\n",
      "MIIPCL ACHA3_CHICK/239-486\n",
      "VVIPCL ACHAA_XENLA/238-446\n",
      "LIIPCL ACHB3_RAT/246-452\n",
      "LIIPCL ACHN2_CARAU/242-446\n",
      "LIIPCV B4HH26_DROSE/268-544\n",
      "LIVPCV ACH1_SCHGR/249-526\n",
      "LIVPCV B4QT71_DROSI/252-480\n",
      "LIIPCV ACH1_DROME/247-531\n",
      "LLIPCV ACHA7_CHICK/237-487\n",
      "LLLPSI 5HT3A_MOUSE/253-478\n",
      "IYTPCI GBRA6_MOUSE/247-437\n",
      "TYIPCI GBRA4_BOVIN/263-539\n",
      "TYIPCI GBRG1_RAT/277-459\n",
      "...\n",
      "LIIPCV ACHB2_CARAU/211-439\n"
     ]
    }
   ],
   "source": [
    "print(alignment[:, :6])"
   ]
  },
  {
   "cell_type": "code",
   "execution_count": 30,
   "id": "720e5b44-9366-4b76-bdb3-ff1a949cef76",
   "metadata": {},
   "outputs": [
    {
     "name": "stdout",
     "output_type": "stream",
     "text": [
      "Alignment with 50 rows and 3 columns\n",
      "LIS ACHA2_RAT/249-502\n",
      "LIS ACHA2_CHICK/247-519\n",
      "LIS ACHA4_CHICK/245-613\n",
      "LIS ACHA4_RAT/252-622\n",
      "LIS ACHA3_CARAU/240-503\n",
      "LIS ACHA3_CHICK/239-486\n",
      "LFS ACHAA_XENLA/238-446\n",
      "GLS ACHB3_RAT/246-452\n",
      "GLS ACHN2_CARAU/242-446\n",
      "GIS B4HH26_DROSE/268-544\n",
      "GIS ACH1_SCHGR/249-526\n",
      "ALT B4QT71_DROSI/252-480\n",
      "GIS ACH1_DROME/247-531\n",
      "LIS ACHA7_CHICK/237-487\n",
      "FLM 5HT3A_MOUSE/253-478\n",
      "MTV GBRA6_MOUSE/247-437\n",
      "MTV GBRA4_BOVIN/263-539\n",
      "LTV GBRG1_RAT/277-459\n",
      "...\n",
      "LIT ACHB2_CARAU/211-439\n"
     ]
    }
   ],
   "source": [
    "print(alignment[:, 6:9])"
   ]
  },
  {
   "cell_type": "code",
   "execution_count": 31,
   "id": "4b0f5c2f-5d29-4d06-a8ef-495e90c90f8f",
   "metadata": {},
   "outputs": [
    {
     "name": "stdout",
     "output_type": "stream",
     "text": [
      "Alignment with 50 rows and 422 columns\n",
      "CLTVLVFYLPSEC-GEKITLCISVLLSLTVFLLLITEIIP-STS...GLF ACHA2_RAT/249-502\n",
      "CLTVLVFYLPSDC-GEKITLCISVLLSLTVFLLLITEIIP-STS...GLF ACHA2_CHICK/247-519\n",
      "CLTVLVFYLPSEC-GEKITLCISVLLSLTVFLLLITEIIP-STS...GLF ACHA4_CHICK/245-613\n",
      "CLTVLVFYLPSEC-GEKVTLCISVLLSLTVFLLLITEIIPSPTS...GLF ACHA4_RAT/252-622\n",
      "FLTILVFYLPSDC-GEKVTLCISVLLSLTVFLLVITETIP-STS...GLF ACHA3_CARAU/240-503\n",
      "FLTVLVFYLPSDC-GEKVTLCISVLLSLTVFLLVITETIP-STS...GLF ACHA3_CHICK/239-486\n",
      "FLTGLVFYLPTDS-GEKITLSVSVLLSLVVFLLVIVELIP-STS...AIF ACHAA_XENLA/238-446\n",
      "FLTVLVFYLPSDE-GEKLSLSTSVLVSLTVFLLVIEEIIP-SSS...LIF ACHB3_RAT/246-452\n",
      "FLTVLVFYLPSDE-GEKVSLSTSVLVSLTVFLLVIEEIIP-SSS...LIF ACHN2_CARAU/242-446\n",
      "YLSVLVFYLPADS-GEKIALCISILLSQTMFFLLISEIIP-STS...VIL B4HH26_DROSE/268-544\n",
      "YLSVLVFYLPADS-GEKIALCISILLSQTMFFLLISEIIP-STS...AIL ACH1_SCHGR/249-526\n",
      "FLTVLVFYLPSDS-GEKVTLCISILVSLTVFFLLLAEIIP-PTS...AII B4QT71_DROSI/252-480\n",
      "FLSVLVFYLPSDS-GEKISLCISILLSLTVFFLLLAEIIP-PTS...LII ACH1_DROME/247-531\n",
      "ALALLVFLLPADS-GEKISLGITVLLSLTVFMLLVAEIMP-ATS...GIL ACHA7_CHICK/237-487\n",
      "VVDIVGFCLPPDS-GERVSFKITLLLGYSVFLIIVSDTLP--AT...TLV 5HT3A_MOUSE/253-478\n",
      "ILSQVSFWINKESVPARTVFGITTVLTMTTLSISARHSLP-KVS...VYW GBRA6_MOUSE/247-437\n",
      "ILSQVSFWINKESVPARTVFGITTVLTMTTLSISARHSLP-KVS...VYW GBRA4_BOVIN/263-539\n",
      "VLSWVSFWINKDAVPARTSLGITTVLTMTTLSTIARKSLP-KVS...VYW GBRG1_RAT/277-459\n",
      "...\n",
      "SLAILVFYLPSDC-GEKVTLCMSVLLALTVFLLLISKIVP-PTS...GLF ACHB2_CARAU/211-439\n"
     ]
    }
   ],
   "source": [
    "print(alignment[:, 9:])"
   ]
  },
  {
   "cell_type": "code",
   "execution_count": 32,
   "id": "3f367fe5-6a69-40fe-a197-283b92c8a7da",
   "metadata": {},
   "outputs": [
    {
     "name": "stdout",
     "output_type": "stream",
     "text": [
      "Alignment with 50 rows and 428 columns\n",
      "LIIPCLCLTVLVFYLPSEC-GEKITLCISVLLSLTVFLLLITEI...GLF ACHA2_RAT/249-502\n",
      "LIIPCLCLTVLVFYLPSDC-GEKITLCISVLLSLTVFLLLITEI...GLF ACHA2_CHICK/247-519\n",
      "LIIPCLCLTVLVFYLPSEC-GEKITLCISVLLSLTVFLLLITEI...GLF ACHA4_CHICK/245-613\n",
      "LIIPCLCLTVLVFYLPSEC-GEKVTLCISVLLSLTVFLLLITEI...GLF ACHA4_RAT/252-622\n",
      "LIIPCLFLTILVFYLPSDC-GEKVTLCISVLLSLTVFLLVITET...GLF ACHA3_CARAU/240-503\n",
      "MIIPCLFLTVLVFYLPSDC-GEKVTLCISVLLSLTVFLLVITET...GLF ACHA3_CHICK/239-486\n",
      "VVIPCLFLTGLVFYLPTDS-GEKITLSVSVLLSLVVFLLVIVEL...AIF ACHAA_XENLA/238-446\n",
      "LIIPCLFLTVLVFYLPSDE-GEKLSLSTSVLVSLTVFLLVIEEI...LIF ACHB3_RAT/246-452\n",
      "LIIPCLFLTVLVFYLPSDE-GEKVSLSTSVLVSLTVFLLVIEEI...LIF ACHN2_CARAU/242-446\n",
      "LIIPCVYLSVLVFYLPADS-GEKIALCISILLSQTMFFLLISEI...VIL B4HH26_DROSE/268-544\n",
      "LIVPCVYLSVLVFYLPADS-GEKIALCISILLSQTMFFLLISEI...AIL ACH1_SCHGR/249-526\n",
      "LIVPCVFLTVLVFYLPSDS-GEKVTLCISILVSLTVFFLLLAEI...AII B4QT71_DROSI/252-480\n",
      "LIIPCVFLSVLVFYLPSDS-GEKISLCISILLSLTVFFLLLAEI...LII ACH1_DROME/247-531\n",
      "LLIPCVALALLVFLLPADS-GEKISLGITVLLSLTVFMLLVAEI...GIL ACHA7_CHICK/237-487\n",
      "LLLPSIVVDIVGFCLPPDS-GERVSFKITLLLGYSVFLIIVSDT...TLV 5HT3A_MOUSE/253-478\n",
      "IYTPCIILSQVSFWINKESVPARTVFGITTVLTMTTLSISARHS...VYW GBRA6_MOUSE/247-437\n",
      "TYIPCIILSQVSFWINKESVPARTVFGITTVLTMTTLSISARHS...VYW GBRA4_BOVIN/263-539\n",
      "TYIPCIVLSWVSFWINKDAVPARTSLGITTVLTMTTLSTIARKS...VYW GBRG1_RAT/277-459\n",
      "...\n",
      "LIIPCVSLAILVFYLPSDC-GEKVTLCMSVLLALTVFLLLISKI...GLF ACHB2_CARAU/211-439\n"
     ]
    }
   ],
   "source": [
    "edited = alignment[:, :6] + alignment[:, 9:]\n",
    "print(edited)"
   ]
  },
  {
   "cell_type": "code",
   "execution_count": 33,
   "id": "e07b9af2-1a5a-4c25-98ab-e8d24ba14e4c",
   "metadata": {},
   "outputs": [
    {
     "name": "stdout",
     "output_type": "stream",
     "text": [
      "Alignment with 50 rows and 428 columns\n",
      "LLLPSIVVDIVGFCLPPDS-GERVSFKITLLLGYSVFLIIVSDT...TLV 5HT3A_MOUSE/253-478\n",
      "TYLPCIILSQVSFWLNRESVPARTVFGVTTVLTMTTLSISARNS...VYW A0A2I3GX20_NOMLE/264-445\n",
      "TYLPCIILSQVSFWLNRESVPARTVFGVTTVLTMTTLSISARNS...VYW A0A452F9D8_CAPHI/257-439\n",
      "LIIPCVFLSVLVFYLPSDS-GEKISLCISILLSLTVFFLLLAEI...LII ACH1_DROME/247-531\n",
      "LIVPCVYLSVLVFYLPADS-GEKIALCISILLSQTMFFLLISEI...AIL ACH1_SCHGR/249-526\n",
      "LILPTVFLCVLVFYLPAEA-GEKVTLGISILLSLVVFLLLVSKI...GIL ACH3_DROME/243-499\n",
      "LIIPCLCLTVLVFYLPSDC-GEKITLCISVLLSLTVFLLLITEI...GLF ACHA2_CHICK/247-519\n",
      "LIIPCLCLTVLVFYLPSEC-GEKITLCISVLLSLTVFLLLITEI...GLF ACHA2_RAT/249-502\n",
      "LIIPCLFLTILVFYLPSDC-GEKVTLCISVLLSLTVFLLVITET...GLF ACHA3_CARAU/240-503\n",
      "MIIPCLFLTVLVFYLPSDC-GEKVTLCISVLLSLTVFLLVITET...GLF ACHA3_CHICK/239-486\n",
      "LIIPCLCLTVLVFYLPSEC-GEKITLCISVLLSLTVFLLLITEI...GLF ACHA4_CHICK/245-613\n",
      "LIIPCLCLTVLVFYLPSEC-GEKVTLCISVLLSLTVFLLLITEI...GLF ACHA4_RAT/252-622\n",
      "LLIPCVALALLVFLLPADS-GEKISLGITVLLSLTVFMLLVAEI...GIL ACHA7_CHICK/237-487\n",
      "VVIPCLFLTGLVFYLPTDS-GEKITLSVSVLLSLVVFLLVIVEL...AIF ACHAA_XENLA/238-446\n",
      "LIIPCVSLAILVFYLPSDC-GEKVTLCMSVLLALTVFLLLISKI...GLF ACHB2_CARAU/211-439\n",
      "LIIPCISLAILVFYLPSDC-GEKMTLCISVLLALTVFLLLISKI...GMF ACHB2_CHICK/234-467\n",
      "LIIPCLFLTVLVFYLPSDE-GEKLSLSTSVLVSLTVFLLVIEEI...LIF ACHB3_RAT/246-452\n",
      "LIIPCVSLAILVFYLPSDC-GEKMTLCISVLLALTVFLLLISKI...GLF ACHB4_CHICK/219-456\n",
      "...\n",
      "VYAPTLVLSWLSFWINPDASAARVPLGIFSVLSLASECTTLAAE...IYW GLRB_RAT/273-492\n"
     ]
    }
   ],
   "source": [
    "edited.sort()\n",
    "print(edited)"
   ]
  },
  {
   "cell_type": "code",
   "execution_count": 34,
   "id": "31cfa392-f138-4c40-b362-9ad0ff63b26a",
   "metadata": {},
   "outputs": [
    {
     "name": "stdout",
     "output_type": "stream",
     "text": [
      "Array shape 50 by 431\n"
     ]
    },
    {
     "name": "stderr",
     "output_type": "stream",
     "text": [
      "C:\\Users\\thomas\\AppData\\Local\\Temp\\ipykernel_19348\\2527119368.py:5: DeprecationWarning: Converting `np.character` to a dtype is deprecated. The current result is `np.dtype(np.str_)` which is not strictly correct. Note that `np.character` is generally deprecated and 'S1' should be used.\n",
      "  align_array = np.array([list(rec) for rec in alignment], np.character)\n"
     ]
    }
   ],
   "source": [
    "import numpy as np\n",
    "import os\n",
    "from Bio import AlignIO\n",
    "alignment = AlignIO.read(\"SEED.ann\", \"stockholm\")\n",
    "align_array = np.array([list(rec) for rec in alignment], np.character)\n",
    "print(\"Array shape %i by %i\" % align_array.shape)"
   ]
  },
  {
   "cell_type": "code",
   "execution_count": 35,
   "id": "fe2c3859-bfc7-41d4-a75f-55853905777c",
   "metadata": {},
   "outputs": [
    {
     "data": {
      "text/plain": [
       "['ClustalOmegaCommandline',\n",
       " 'ClustalwCommandline',\n",
       " 'DialignCommandline',\n",
       " 'MSAProbsCommandline',\n",
       " 'MafftCommandline',\n",
       " 'MuscleCommandline',\n",
       " 'PrankCommandline',\n",
       " 'ProbconsCommandline',\n",
       " 'TCoffeeCommandline',\n",
       " '_ClustalOmega',\n",
       " '_Clustalw',\n",
       " '_Dialign',\n",
       " '_MSAProbs',\n",
       " '_Mafft',\n",
       " '_Muscle',\n",
       " '_Prank',\n",
       " '_Probcons',\n",
       " '_TCoffee',\n",
       " '__all__',\n",
       " '__builtins__',\n",
       " '__cached__',\n",
       " '__doc__',\n",
       " '__file__',\n",
       " '__loader__',\n",
       " '__name__',\n",
       " '__package__',\n",
       " '__path__',\n",
       " '__spec__']"
      ]
     },
     "execution_count": 35,
     "metadata": {},
     "output_type": "execute_result"
    }
   ],
   "source": [
    "import Bio.Align.Applications\n",
    "dir(Bio.Align.Applications)"
   ]
  },
  {
   "cell_type": "code",
   "execution_count": 36,
   "id": "50d2c557-1490-46f5-8e13-5a75adeedf5f",
   "metadata": {},
   "outputs": [],
   "source": [
    "from Bio.Align.Applications import ClustalwCommandline"
   ]
  },
  {
   "cell_type": "code",
   "execution_count": 37,
   "id": "1c721c5c-4fcf-402b-87f4-fe19bd397e39",
   "metadata": {},
   "outputs": [],
   "source": [
    "from Bio.Align.Applications import ClustalwCommandline\n",
    "cline = ClustalwCommandline(\"clustalw2\", infile=\"PF02932_seed.txt\")"
   ]
  },
  {
   "cell_type": "code",
   "execution_count": 38,
   "id": "2ac1ec9e-4ba9-48de-b4b2-2585a1513e54",
   "metadata": {},
   "outputs": [],
   "source": [
    "import os\n",
    "from Bio.Align.Applications import ClustalwCommandline\n",
    "clustalw_exe = r\"C:\\Program Files (x86)\\ClustalW2\\clustalw2.exe\"\n",
    "clustalw_cline = ClustalwCommandline(clustalw_exe, infile=\"PF02932_seed.txt\")\n",
    "assert os.path.isfile(clustalw_exe), \"Clustal W executable missing\""
   ]
  },
  {
   "cell_type": "code",
   "execution_count": 73,
   "id": "552f6de7-40c1-47c7-85d4-ee8a3cb5e2ba",
   "metadata": {},
   "outputs": [],
   "source": [
    "assert os.path.isfile(clustalw_exe), \"Clustal W executable missing\"\n",
    "stdout, stderr = clustalw_cline()"
   ]
  },
  {
   "cell_type": "code",
   "execution_count": 40,
   "id": "6f44a718-c812-49a7-98c9-c81feeb43f8a",
   "metadata": {},
   "outputs": [
    {
     "name": "stdout",
     "output_type": "stream",
     "text": [
      "Alignment with 50 rows and 468 columns\n",
      "LIIPCLLISCLTVLVFYLPSECG-EKITLCISVLLSLTVFLLLI...GLF ACHA2_RAT/249-502\n",
      "LIIPCLLISCLTVLVFYLPSDCG-EKITLCISVLLSLTVFLLLI...GLF ACHA2_CHICK/247-519\n",
      "LIIPCLLISCLTVLVFYLPSECG-EKITLCISVLLSLTVFLLLI...GLF ACHA4_CHICK/245-613\n",
      "LIIPCLLISCLTVLVFYLPSECG-EKVTLCISVLLSLTVFLLLI...GLF ACHA4_RAT/252-622\n",
      "LIIPCLGLSFLTVLVFYLPSDEG-EKLSLSTSVLVSLTVFLLVI...LIF ACHB3_RAT/246-452\n",
      "LIIPCLGLSFLTVLVFYLPSDEG-EKVSLSTSVLVSLTVFLLVI...LIF ACHN2_CARAU/242-446\n",
      "LIIPCLLISFLTILVFYLPSDCG-EKVTLCISVLLSLTVFLLVI...GLF ACHA3_CARAU/240-503\n",
      "MIIPCLLISFLTVLVFYLPSDCG-EKVTLCISVLLSLTVFLLVI...GLF ACHA3_CHICK/239-486\n",
      "VVIPCLLFSFLTGLVFYLPTDSG-EKITLSVSVLLSLVVFLLVI...AIF ACHAA_XENLA/238-446\n",
      "LIIPCVLITSLAILVFYLPSDCG-EKMTLCISVLLALTVFLLLI...GLF ACHB4_CHICK/219-456\n",
      "LIIPCVLITSLAILVFYLPSDCG-EKMTLCISVLLALTFFLLLI...GLF ACHB4_RAT/238-481\n",
      "LIIPCVLITSLAILVFYLPSDCG-EKVTLCMSVLLALTVFLLLI...GLF ACHB2_CARAU/211-439\n",
      "LIIPCILITSLAILVFYLPSDCG-EKMTLCISVLLALTVFLLLI...GMF ACHB2_CHICK/234-467\n",
      "LIIPCVGISYLSVLVFYLPADSG-EKIALCISILLSQTMFFLLI...VIL B4HH26_DROSE/268-544\n",
      "LIVPCVGISYLSVLVFYLPADSG-EKIALCISILLSQTMFFLLI...AIL ACH1_SCHGR/249-526\n",
      "LIVPCVALTFLTVLVFYLPSDSG-EKVTLCISILVSLTVFFLLL...AII B4QT71_DROSI/252-480\n",
      "LIIPCVGISFLSVLVFYLPSDSG-EKISLCISILLSLTVFFLLL...LII ACH1_DROME/247-531\n",
      "LILPTVLISFLCVLVFYLPAEAG-EKVTLGISILLSLVVFLLLV...GIL ACH3_DROME/243-499\n",
      "...\n",
      "LLLPSIFLMVVDIVGFCLPPDSG-ERVSFKITLLLGYSVFLIIV...TLV 5HT3A_MOUSE/253-478\n"
     ]
    }
   ],
   "source": [
    "from Bio import AlignIO\n",
    "align = AlignIO.read(\"PF02932_seed.aln\", \"clustal\")\n",
    "print(align)"
   ]
  },
  {
   "cell_type": "code",
   "execution_count": 41,
   "id": "909e4b2b-2d6f-4f5e-915f-71e9d979dc07",
   "metadata": {},
   "outputs": [
    {
     "name": "stdout",
     "output_type": "stream",
     "text": [
      "          ____________ ACHA2_RAT/249-502\n",
      "        _|\n",
      "      ,| |____________ ACHA2_CHICK/247-519\n",
      "      ||\n",
      "     _||______________ ACHA4_CHICK/245-613\n",
      "    | |\n",
      "   ,| |______________ ACHA4_RAT/252-622\n",
      "   ||\n",
      "   ||        _________ ACHB3_RAT/246-452\n",
      "   ||_______|\n",
      "  _|        |_________ ACHN2_CARAU/242-446\n",
      " | |\n",
      " | |      _____________ ACHA3_CARAU/240-503\n",
      " | | ____|\n",
      " | ||    |____________ ACHA3_CHICK/239-486\n",
      " |  |\n",
      " |  |___________________ ACHAA_XENLA/238-446\n",
      " |\n",
      " |     _____________ ACHB2_CHICK/234-467\n",
      " |    |\n",
      " |____|  ____________ ACHB4_CHICK/219-456\n",
      " |    |_|\n",
      " |    | |____________ ACHB4_RAT/238-481\n",
      " |    |\n",
      " |    |_____________ ACHB2_CARAU/211-439\n",
      " |\n",
      " |            ___________ B4HH26_DROSE/268-544\n",
      " | __________|\n",
      " ||          |__________ ACH1_SCHGR/249-526\n",
      " ||\n",
      " ||  __________________ B4QT71_DROSI/252-480\n",
      " ||_|\n",
      " |  |__________________ ACH1_DROME/247-531\n",
      " |\n",
      " |   _________________________ ACHA7_CHICK/237-487\n",
      " |  |\n",
      " |  |     _____________________________ 5HT3A_MOUSE/253-478\n",
      " |  |    |\n",
      " |  |    |                         _____________ GBRA6_MOUSE/247-437\n",
      " |  |    |                     ___|\n",
      " |  |    |                    |   |______________ GBRA4_BOVIN/263-539\n",
      " |  |    |                ____|\n",
      " |  |    |               |    |       ____________ GBRA3_BOVIN/282-475\n",
      " | _|    |               |    |     ,|\n",
      " || |    |               |    |_____||___________ A0A2I3GX20_NOMLE/264-445\n",
      " || |    |               |          |\n",
      " || |    |              _|          |____________ A0A452F9D8_CAPHI/257-439\n",
      " || |    |             | |\n",
      "_|| |    |             | |            _________ GBRG1_RAT/277-459\n",
      " || |    |             | |         __|\n",
      " || |    |             | |       ,|  |_________ GBRG2_BOVIN/279-469\n",
      " || |    |             | |       ||\n",
      " || |____|             | |_______||_____________ GBRG3_MOUSE/260-461\n",
      " ||      |             |         |\n",
      " ||      |             |         |______________ GBRG4_CHICK/262-451\n",
      " ||      |             |\n",
      " ||      |             |              ___________ GBRR2_HUMAN/268-461\n",
      " ||      |             |   __________|\n",
      " ||      |             | ,|          |__________ GBRR1_HUMAN/288-475\n",
      " ||      |             | ||\n",
      " ||      |             | ||____________________ GBRB_LYMST/256-493\n",
      " ||      |             |_|\n",
      " ||      |             | |           ___________ GBRB3_CHICK/250-471\n",
      " ||      |           __| |         ,|\n",
      " ||      |          |  | |_________||___________ GBRB1_BOVIN/250-469\n",
      " ||      |          |  |           |\n",
      " ,|      |          |  |           |____________ GBRB4_CHICK/249-483\n",
      " ||      |          |  |\n",
      " ||      |__________|  | ______________________ G3REP2_GORGO/255-443\n",
      " ||                 |  ||\n",
      " ||                 |  ||_______________________ GBRB_DROME/274-586\n",
      " ||                 |  |\n",
      " ||                 |  |________________________ GBRD_MOUSE/254-444\n",
      " ||                 |\n",
      " ||                 |__________________________ GLRB_RAT/273-492\n",
      " ||\n",
      " ||            _______________ ACHD_TETCF/253-494\n",
      " ||           |\n",
      " ||     ______|    __________ B7ZQ13_XENLA/255-493\n",
      " ||    |      |  ,|\n",
      " ||    |      |__||_________ ACHD_CHICK/252-485\n",
      " ||    |         |\n",
      " ||    |         |__________ ACHD_BOVIN/252-488\n",
      " || ___|\n",
      " |||   |              _________ ACHG_CHICK/249-491\n",
      " |||   |         ____|\n",
      " |||   |       _|    |___________ ACHG_XENLA/242-486\n",
      " |||   |      | |\n",
      " |||   |______| |________________ ACHG_BOVIN/248-494\n",
      " |||          |\n",
      " | |          |   ______________ ACHE_BOVIN/247-474\n",
      " | |          |__|\n",
      " | |             |_____________ ACHG_TETCF/243-484\n",
      " | |\n",
      " | |       _______________ ACHB_TETCF/248-479\n",
      " | |______|\n",
      " |        |_______________ ACHB_BOVIN/253-491\n",
      " |\n",
      " |_______________________ ACH3_DROME/243-499\n",
      "\n"
     ]
    }
   ],
   "source": [
    "from Bio import Phylo\n",
    "tree = Phylo.read(\"PF02932_seed.dnd\", \"newick\")\n",
    "Phylo.draw_ascii(tree)"
   ]
  },
  {
   "cell_type": "code",
   "execution_count": 45,
   "id": "523eb530-ed91-4d56-b85a-cb54c848035b",
   "metadata": {},
   "outputs": [],
   "source": [
    "from Bio.Align.Applications import MuscleCommandline"
   ]
  },
  {
   "cell_type": "code",
   "execution_count": 46,
   "id": "525375ad-8631-4558-8bd1-9d29a798b792",
   "metadata": {},
   "outputs": [
    {
     "name": "stdout",
     "output_type": "stream",
     "text": [
      "muscle -in PF02932_seed.txt -out PF02932_seed5.txt\n"
     ]
    }
   ],
   "source": [
    "from Bio.Align.Applications import MuscleCommandline\n",
    "cline = MuscleCommandline(input=\"PF02932_seed.txt\", out=\"PF02932_seed5.txt\")\n",
    "print(cline)"
   ]
  },
  {
   "cell_type": "code",
   "execution_count": 47,
   "id": "0f0c538c-e9df-432d-b541-f3f681999ed5",
   "metadata": {},
   "outputs": [
    {
     "name": "stdout",
     "output_type": "stream",
     "text": [
      "muscle -in PF02932_seed.txt -out PF02932_seed.aln -clw\n"
     ]
    }
   ],
   "source": [
    "from Bio.Align.Applications import MuscleCommandline\n",
    "cline = MuscleCommandline(input=\"PF02932_seed.txt\", out=\"PF02932_seed.aln\", clw=True)\n",
    "print(cline)"
   ]
  },
  {
   "cell_type": "code",
   "execution_count": 48,
   "id": "cf16fa27-70f6-4137-82e4-76785efcf7a1",
   "metadata": {},
   "outputs": [
    {
     "name": "stdout",
     "output_type": "stream",
     "text": [
      "muscle -in PF02932_seed.txt\n"
     ]
    }
   ],
   "source": [
    "from Bio.Align.Applications import MuscleCommandline\n",
    "muscle_cline = MuscleCommandline(input=\"PF02932_seed.txt\")\n",
    "print(muscle_cline)"
   ]
  },
  {
   "cell_type": "code",
   "execution_count": 49,
   "id": "17ecb5dc-b0ae-420f-af0a-b5aba6b57108",
   "metadata": {},
   "outputs": [
    {
     "name": "stdout",
     "output_type": "stream",
     "text": [
      "muscle -in PF02932_seed.txt -out PF02932_seed.aln -clwstrict\n"
     ]
    }
   ],
   "source": [
    "from Bio.Align.Applications import MuscleCommandline\n",
    "cline = MuscleCommandline(input=\"PF02932_seed.txt\", out=\"PF02932_seed.aln\", clwstrict=True)\n",
    "print(cline)"
   ]
  },
  {
   "cell_type": "code",
   "execution_count": 50,
   "id": "809df12d-e733-4b0a-bfe5-00bb88270f2e",
   "metadata": {},
   "outputs": [
    {
     "name": "stdout",
     "output_type": "stream",
     "text": [
      "muscle -in PF02932_seed.txt\n"
     ]
    }
   ],
   "source": [
    "from Bio.Align.Applications import MuscleCommandline\n",
    "muscle_cline = MuscleCommandline(input=\"PF02932_seed.txt\")\n",
    "print(muscle_cline)"
   ]
  },
  {
   "cell_type": "code",
   "execution_count": 51,
   "id": "b938b6ab-c532-4758-981f-b401687fce38",
   "metadata": {},
   "outputs": [
    {
     "name": "stdout",
     "output_type": "stream",
     "text": [
      "Alignment with 50 rows and 418 columns\n",
      "VYAPTLLIVVLSWLSFWINPDASAARVPLGIFSVLSLASECTTL...IYW GLRB_RAT/273-492\n",
      "SYMPSVLLVAMSWVSFWISQAAVPARVSLGITTVLTMTTLMVSA...IYW GBRD_MOUSE/254-444\n",
      "IYIPSGLIVIISWVSFWLNRNATPARVALGVTTVLTMTTLMSST...MYW GBRB_DROME/274-586\n",
      "TYIPCILTVVLSWVSFWIKRDSTPARTSLGITTVLTMTTLSTIS...VYW GBRG4_CHICK/262-451\n",
      "TYIPCILTVVLSWVSFWIKKDATPARTTLGITTVLTMTTLSTIA...VYW GBRG3_MOUSE/260-461\n",
      "TYIPCILTVVLSWVSFWINKDAVPARTSLGITTVLTMTTLSTIA...VYW GBRG1_RAT/277-459\n",
      "TYIPCTLIVVLSWVSFWINKDAVPARTSLGITTVLTMTTLSTIA...VYW GBRG2_BOVIN/279-469\n",
      "TYLPCIMTVILSQVSFWLNRESVPARTVFGVTTVLTMTTLSISA...VYW GBRA3_BOVIN/282-475\n",
      "TYLPCIMTVILSQVSFWLNRESVPARTVFGVTTVLTMTTLSISA...VYW A0A452F9D8_CAPHI/257-439\n",
      "TYLPCIMTVILSQVSFWLNRESVPARTVFGVTTVLTMTTLSISA...VYW A0A2I3GX20_NOMLE/264-445\n",
      "IYTPCIMTVILSQVSFWINKESVPARTVFGITTVLTMTTLSISA...VYW GBRA6_MOUSE/247-437\n",
      "TYIPCIMTVILSQVSFWINKESVPARTVFGITTVLTMTTLSISA...VYW GBRA4_BOVIN/263-539\n",
      "TYMPSILITILSWVSFWINYDASAARVALGVTTVLTMTTINTHL...VYW GBRB4_CHICK/249-483\n",
      "TYMPSILITILSWVSFWINYDASAARVALGITTVLTMTTINTHL...IYW GBRB3_CHICK/250-471\n",
      "TYMPSTLITILSWVSFWINYDASAARVALGITTVLTMTTISTHL...VYW GBRB1_BOVIN/250-469\n",
      "MYIPSLLIVILSWISFWINMDAAPARVGLGITTVLTMTTQSSGS...FYW G3REP2_GORGO/255-443\n",
      "TYLPSILIVMLSWVSFWINHEATSARVALGITTVLTMTTISNGV...SYW GBRB_LYMST/256-493\n",
      "TYFPATLMVMLSWVSFWIDRRAVPARVSLGITTVLTMTTIITGV...IYW GBRR2_HUMAN/268-461\n",
      "...\n",
      "IIAPCVLISSLVVLVYFLPAQAGGQKCTLSISVLLAQTIFLFLI...AIF ACHG_TETCF/243-484\n"
     ]
    }
   ],
   "source": [
    "import os\n",
    "from Bio.Align.Applications import MuscleCommandline\n",
    "muscle_exe = r\"C:\\Program Files (x86)\\Aligments\\muscle.exe\"\n",
    "in_file = \"PF02932_seed.txt\"\n",
    "out_file = \"PF02932aligned.txt\"\n",
    "muscle_cline = MuscleCommandline(muscle_exe, input=in_file, out=out_file)\n",
    "assert os.path.isfile(muscle_exe)\n",
    "stdout, stderr = muscle_cline()\n",
    "from Bio import AlignIO\n",
    "align = AlignIO.read(out_file, \"fasta\")\n",
    "print(align)"
   ]
  },
  {
   "cell_type": "code",
   "execution_count": 52,
   "id": "e07ca262",
   "metadata": {},
   "outputs": [],
   "source": [
    "from Bio.Emboss.Applications import NeedleCommandline"
   ]
  },
  {
   "cell_type": "code",
   "execution_count": 70,
   "id": "7aeb2933",
   "metadata": {},
   "outputs": [
    {
     "name": "stdout",
     "output_type": "stream",
     "text": [
      "Needleman-Wunsch global alignment of two sequences\n",
      "\n"
     ]
    }
   ],
   "source": [
    "from Bio.Emboss.Applications import NeedleCommandline\n",
    "needle_cline = NeedleCommandline(r\"C:\\mEMBOSS\\needle.exe\", asequence=\"PF02932-1.txt\", bsequence=\"PF02932-2.txt\", gapopen=10, gapextend=0.5, outfile=\"PF02932.txt\")\n",
    "stdout, stderr = needle_cline()\n",
    "print(stdout + stderr)"
   ]
  },
  {
   "cell_type": "code",
   "execution_count": 71,
   "id": "e82f140a",
   "metadata": {},
   "outputs": [
    {
     "data": {
      "text/plain": [
       "('', 'Needleman-Wunsch global alignment of two sequences\\n')"
      ]
     },
     "execution_count": 71,
     "metadata": {},
     "output_type": "execute_result"
    }
   ],
   "source": [
    "from Bio.Emboss.Applications import NeedleCommandline\n",
    "needle_cline = NeedleCommandline()\n",
    "needle_cline.asequence=\"PF02932-1.txt\"\n",
    "needle_cline.bsequence=\"PF02932-2.txt\"\n",
    "needle_cline.gapopen=10\n",
    "needle_cline.gapextend=0.5\n",
    "needle_cline.outfile=\"needle.txt\"\n",
    "needle_cline()"
   ]
  },
  {
   "cell_type": "code",
   "execution_count": 72,
   "id": "43140b21",
   "metadata": {},
   "outputs": [
    {
     "name": "stdout",
     "output_type": "stream",
     "text": [
      "Alignment with 2 rows and 273 columns\n",
      "LIIPCLLISCLTVLVFYLPSDCGEKITLCISVLLSLTVFLLLIT...GLF ACHA2_CHICK/247-519\n",
      "LIIPCLLISCLTVLVFYLPSECGEKITLCISVLLSLTVFLLLIT...GLF ACHA2_RAT/249-502\n"
     ]
    }
   ],
   "source": [
    "from Bio import AlignIO\n",
    "align = AlignIO.read(\"PF02932.txt\", \"emboss\", 2)\n",
    "print(align)"
   ]
  },
  {
   "cell_type": "code",
   "execution_count": null,
   "id": "128ebf9f-05a0-4367-957b-d9b8b9313981",
   "metadata": {},
   "outputs": [],
   "source": []
  },
  {
   "cell_type": "code",
   "execution_count": null,
   "id": "fce57f2b",
   "metadata": {},
   "outputs": [],
   "source": []
  }
 ],
 "metadata": {
  "kernelspec": {
   "display_name": "Python 3 (ipykernel)",
   "language": "python",
   "name": "python3"
  },
  "language_info": {
   "codemirror_mode": {
    "name": "ipython",
    "version": 3
   },
   "file_extension": ".py",
   "mimetype": "text/x-python",
   "name": "python",
   "nbconvert_exporter": "python",
   "pygments_lexer": "ipython3",
   "version": "3.9.12"
  },
  "toc-autonumbering": true,
  "toc-showcode": true,
  "toc-showmarkdowntxt": true
 },
 "nbformat": 4,
 "nbformat_minor": 5
}
